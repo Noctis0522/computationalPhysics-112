{
 "cells": [
  {
   "cell_type": "markdown",
   "metadata": {},
   "source": [
    "# Demo 3: A general IVP solver\n",
    "\n",
    "In this jupyter notebook, we will learn how to use the general IVP solver we wrote in `./project1/solver.py`.\n",
    "Let's start from reproducing the results in `demo1` and `demo2`.\n"
   ]
  },
  {
   "cell_type": "markdown",
   "metadata": {},
   "source": [
    "Before we start using the IVP solver, let's import the related packages first."
   ]
  },
  {
   "cell_type": "code",
   "execution_count": null,
   "metadata": {},
   "outputs": [],
   "source": [
    "import numpy as np\n",
    "import matplotlib.pyplot as plt\n",
    "#import solver as mysolver             # your own solver\n",
    "import solver_sol as solver  # compare your results with solution\n",
    "from scipy.integrate import solve_ivp as solver_scipy\n",
    "\n",
    "# Note that if the path of your jupyter notebook is different from the path of the solver.py file, \n",
    "# you need to add the relative path of the solver.py file during the import, for example:\n",
    "\n",
    "#import project1.solver as mysolver\n",
    "#import project1.solution.solver_sol as solver\n",
    "\n",
    "# Or, you can add the path of the solver.py file to the system path, for example:\n",
    "# import sys\n",
    "# sys.path.append('path_of_solver.py')\n"
   ]
  },
  {
   "cell_type": "markdown",
   "metadata": {},
   "source": [
    "Now, let's start to reproduce `demo1` and `demo2`.\n",
    "Set\n",
    "* t0 = 0 sec and tmax = 20 sec\n",
    "* time step dt = 0.01\n",
    "* The spring constant `K` = 1\n",
    "* The mass `M` = 1\n",
    "* Initial condition: `x=1`, `v=0`."
   ]
  },
  {
   "cell_type": "code",
   "execution_count": null,
   "metadata": {},
   "outputs": [],
   "source": [
    "# define the y' funciotn\n",
    "def func(t,y,K,M):\n",
    "    force = -K * y[0]     # F = - k X\n",
    "    f = np.zeros(len(y))\n",
    "    f[0] = y[1]           # y'[0] = v\n",
    "    f[1] = force/M        # y'[1] = a = F/M\n",
    "    return f"
   ]
  },
  {
   "cell_type": "code",
   "execution_count": null,
   "metadata": {},
   "outputs": [],
   "source": [
    "# Prepare the input arguments\n",
    "t_span = np.linspace(0,20, 2001)\n",
    "t_eval = t_span\n",
    "y = np.array([1,0]) # initial condition\n",
    "K = 1\n",
    "M = 1\n",
    "args = (K,M)\n",
    "\n",
    "# use the IVP solver\n",
    "sol = solver.solve_ivp(func,t_span,y, \"RK4\", t_eval, args)"
   ]
  },
  {
   "cell_type": "code",
   "execution_count": null,
   "metadata": {},
   "outputs": [],
   "source": [
    "# visualize the results\n",
    "plt.plot(t_eval, sol[0], label=\"position\")\n",
    "plt.plot(t_eval, sol[1], label=\"velocity\")\n",
    "plt.legend()\n",
    "plt.show()"
   ]
  },
  {
   "cell_type": "markdown",
   "metadata": {},
   "source": [
    "# Damped Oscillation\n",
    "\n",
    "When there is a damping force ($F_{\\rm damp}=-\\lambda \\dot{x}$), the equation of motion becomes,\n",
    "\n",
    "$$\n",
    "m\\ddot{x} + \\lambda \\dot{x} + kx = 0\n",
    "$$\n",
    "\n",
    "### Exercise\n",
    "\n",
    "* Use the IVP solver we developed. The only differences are the `func` and initial conditions.\n",
    "* Modify the y' function (`func`) to simulate a damped oscillator (from t=0 to 20). IC: at t=0, K=M=1, A=1, $\\phi= 0$,$\\lambda=0.2$.\n",
    "* Make plots of position(t), velocity(t), and total energy (t). Comapred your results with analytical solutions."
   ]
  },
  {
   "cell_type": "code",
   "execution_count": null,
   "metadata": {},
   "outputs": [],
   "source": [
    "# define the y' funciotn\n",
    "def func_damped(t,y,K,M,L):\n",
    "    force = -K * y[0] - L * y[1]     # F = - k v - L v\n",
    "    f = np.zeros(len(y))\n",
    "    f[0] = y[1]                      # y'[0] = v\n",
    "    f[1] = force/M                   # y'[1] = a = F/M\n",
    "    return f"
   ]
  },
  {
   "cell_type": "code",
   "execution_count": null,
   "metadata": {},
   "outputs": [],
   "source": [
    "# Prepare the input arguments\n",
    "t_span = np.linspace(0,20, 2001)\n",
    "t_eval = t_span\n",
    "y = np.array([1,0]) # initial condition\n",
    "K = 1\n",
    "M = 1\n",
    "L = 0.2\n",
    "args = (K,M,L)\n",
    "\n",
    "# use the IVP solver\n",
    "sol = solver.solve_ivp(func_damped,t_span,y, \"RK4\", t_eval, args)"
   ]
  },
  {
   "cell_type": "code",
   "execution_count": null,
   "metadata": {},
   "outputs": [],
   "source": [
    "# visualize the results\n",
    "plt.plot(t_eval, sol[0], label=\"position\")\n",
    "plt.plot(t_eval, sol[1], label=\"velocity\")\n",
    "plt.legend()\n",
    "plt.show()"
   ]
  },
  {
   "cell_type": "markdown",
   "metadata": {},
   "source": [
    "### Analytical Solutions\n",
    "\n",
    "The analytical solution is\n",
    "\n",
    "$$\n",
    "x(t) = A e^{-\\gamma t} \\left[\\cos(\\omega t + \\phi) \\right],\n",
    "$$\n",
    "\n",
    "where $\\omega = \\sqrt{\\gamma^2 -\\omega_0^2}$ or $\\omega=\\sqrt{\\omega_0^2-\\gamma^2}$."
   ]
  },
  {
   "cell_type": "code",
   "execution_count": null,
   "metadata": {},
   "outputs": [],
   "source": [
    "phi0   = 0\n",
    "omega0 = np.sqrt(K/M)\n",
    "gamma  = L/(2*M)\n",
    "omega  = np.sqrt(omega0**2 - gamma**2)\n",
    "\n",
    "xpos_ana = np.exp(-gamma*t_eval) * (np.cos(omega*t_eval + phi0))"
   ]
  },
  {
   "cell_type": "code",
   "execution_count": null,
   "metadata": {},
   "outputs": [],
   "source": [
    "# visualize the results\n",
    "plt.plot(t_eval, sol[0], label=\"numerical\")\n",
    "plt.plot(t_eval, xpos_ana, label=\"analytical\")\n",
    "plt.legend()\n",
    "plt.show()"
   ]
  },
  {
   "cell_type": "markdown",
   "metadata": {},
   "source": [
    "## Part 2\n",
    "\n",
    "Now, let's explore the evolution of the three general cases:\n",
    "\n",
    "* Underdamping: $\\omega_0^2 > \\gamma^2$\n",
    "* Critical damping: $\\omega_0^2 = \\gamma^2$\n",
    "* Overdamping: $\\omega_0^2 < \\gamma^2$\n",
    "\n",
    "Vary $\\lambda$, to the corresponding conditions:\n",
    "* $\\lambda = 0.2$ ($\\omega_0^2 > \\gamma^2$)\n",
    "* $\\lambda = 2$ ($\\omega_0^2 = \\gamma^2$)\n",
    "* $\\lambda = 2.4$ ($\\omega_0^2 < \\gamma^2$)"
   ]
  },
  {
   "cell_type": "code",
   "execution_count": null,
   "metadata": {},
   "outputs": [],
   "source": [
    "# Prepare the input arguments\n",
    "t_span = np.linspace(0,20, 2001)\n",
    "t_eval = t_span\n",
    "y = np.array([1,0]) # initial condition\n",
    "\n",
    "# use the IVP solver\n",
    "sol_under = solver.solve_ivp(func_damped,t_span,y, \"RK4\", t_eval, args=(1,1,0.2))\n",
    "sol_crit  = solver.solve_ivp(func_damped,t_span,y, \"RK4\", t_eval, args=(1,1,2))\n",
    "sol_over  = solver.solve_ivp(func_damped,t_span,y, \"RK4\", t_eval, args=(1,1,5))"
   ]
  },
  {
   "cell_type": "code",
   "execution_count": null,
   "metadata": {},
   "outputs": [],
   "source": [
    "# compare with the funciton f = A exp(- 0.1* t)\n",
    "\n",
    "plt.figure()\n",
    "plt.plot(t_eval, sol_under[0], label=\"underdamped\")\n",
    "plt.plot(t_eval, sol_crit[0], label=\"critical\")\n",
    "plt.plot(t_eval, sol_over[0], label=\"overdamped\")\n",
    "plt.plot(t_eval, np.exp(-0.1*t_eval), label=\"A exp(-0.1 t)\")\n",
    "plt.legend()\n",
    "plt.xlabel(\"t\")\n",
    "plt.ylabel(\"x(t)\")\n",
    "plt.show()\n",
    "\n",
    "# Is this plot familiar to you?"
   ]
  },
  {
   "cell_type": "markdown",
   "metadata": {},
   "source": [
    "# Forced Oscillation\n",
    "\n",
    "* Use the IVP solver we developed. The only differences are the `func` and initial conditions.\n",
    "* Modify the y' function (`func`) to simulate a forced oscillator (from t=0 to 100).\n",
    "* Set the inital conditions: A=1, K=M=1, $\\lambda=0.2$, $F_0=0.1$ and $\\omega_f=0.8$.\n",
    "* Make plots of position(t), velocity(t), and total energy(t)."
   ]
  },
  {
   "cell_type": "code",
   "execution_count": null,
   "metadata": {},
   "outputs": [],
   "source": [
    "# define the y' funciotn\n",
    "def func_forced(t,y,K,M,L,F0,WF):\n",
    "    force = -K * y[0] - L * y[1] + F0*np.cos(WF*t)    # F = - k v - L v + F0 sin(WF t)\n",
    "    f = np.zeros(len(y))\n",
    "    f[0] = y[1]                      # y'[0] = v\n",
    "    f[1] = force/M                   # y'[1] = a = F/M\n",
    "    return f"
   ]
  },
  {
   "cell_type": "code",
   "execution_count": null,
   "metadata": {},
   "outputs": [],
   "source": [
    "# Prepare the input arguments\n",
    "t_span = np.linspace(0,100, 5001)\n",
    "t_eval = t_span\n",
    "A = 1\n",
    "y = np.array([A,0]) # initial condition\n",
    "K = 1\n",
    "M = 1\n",
    "L = 0.2\n",
    "F0 =0.1\n",
    "WF = 0.8\n",
    "args = (K,M,L,F0,WF)\n",
    "\n",
    "# use the IVP solver\n",
    "sol = solver.solve_ivp(func_forced,t_span,y, \"RK4\", t_eval, args)"
   ]
  },
  {
   "cell_type": "code",
   "execution_count": null,
   "metadata": {},
   "outputs": [],
   "source": [
    "# Compared with the particular solution\n",
    "omega0 = np.sqrt(K/M)\n",
    "gamma  = L/(2*M)\n",
    "D = F0/np.sqrt((omega0**2 - WF**2)**2 + 4*WF**2*gamma**2)\n",
    "delta = np.arctan(2*WF*gamma/(omega0**2 - WF**2)) \n",
    "\n",
    "xp = D * np.cos(WF*t_eval - delta)\n",
    "\n",
    "# visualize the results\n",
    "plt.plot(t_eval, sol[0], label=\"position\")\n",
    "plt.plot(t_eval, xp, label=\"particular solution\")\n",
    "plt.legend()\n",
    "plt.show()"
   ]
  },
  {
   "cell_type": "markdown",
   "metadata": {},
   "source": [
    "# Resonance\n",
    "\n",
    "* Resonance will happen when $\\omega_0 = \\omega_f$ without damping.\n",
    "* Modify your `demo3` but set $\\lambda=0$ and $\\omega_f=1$.\n",
    "* Re-run your simulation with $\\lambda=0.1$ and $0.01$.\n"
   ]
  },
  {
   "cell_type": "code",
   "execution_count": null,
   "metadata": {},
   "outputs": [],
   "source": [
    "# Prepare the input arguments\n",
    "t_span = np.linspace(0,100, 5001)\n",
    "t_eval = t_span\n",
    "A = 1\n",
    "y = np.array([A,0]) # initial condition\n",
    "K = 1\n",
    "M = 1\n",
    "L = 0.0\n",
    "F0 =0.1\n",
    "WF = 1.0\n",
    "args = (K,M,L,F0,WF)\n",
    "\n",
    "# use the IVP solver\n",
    "sol1 = solver.solve_ivp(func_forced,t_span,y, \"RK4\", t_eval, args=(K,M,0.0,F0,WF))\n",
    "sol2 = solver.solve_ivp(func_forced,t_span,y, \"RK4\", t_eval, args=(K,M,0.1,F0,WF))\n",
    "sol3 = solver.solve_ivp(func_forced,t_span,y, \"RK4\", t_eval, args=(K,M,0.01,F0,WF))"
   ]
  },
  {
   "cell_type": "code",
   "execution_count": null,
   "metadata": {},
   "outputs": [],
   "source": [
    "# visualize the results\n",
    "plt.plot(t_eval, sol1[0], label=\"L=0.0\")\n",
    "plt.plot(t_eval, sol2[0], label=\"L=0.1\")\n",
    "plt.plot(t_eval, sol3[0], label=\"L=0.01\")\n",
    "plt.legend()\n",
    "plt.show()"
   ]
  },
  {
   "cell_type": "markdown",
   "metadata": {},
   "source": [
    "# Using `scipy`\n",
    "\n",
    "Compare the results of our solver (`mysolver`) with the `solve_ivp` in `scipy`."
   ]
  },
  {
   "cell_type": "code",
   "execution_count": null,
   "metadata": {},
   "outputs": [],
   "source": [
    "sol_euler = solver.solve_ivp(func_forced,t_span,y, \"Euler\", t_eval, args=(K,M,0.0,F0,WF))\n",
    "sol_rk2 = solver.solve_ivp(func_forced,t_span,y, \"RK2\", t_eval, args=(K,M,0.0,F0,WF))\n",
    "sol_rk4 = solver.solve_ivp(func_forced,t_span,y, \"RK4\", t_eval, args=(K,M,0.0,F0,WF))\n",
    "sol_scipy = solver_scipy(func_forced, [0,100], y, args=(K,M,0.0,F0,WF), t_eval=t_eval, method='RK45')"
   ]
  },
  {
   "cell_type": "code",
   "execution_count": null,
   "metadata": {},
   "outputs": [],
   "source": [
    "plt.plot(t_eval, sol_euler[0], label=\"Euler\")\n",
    "plt.plot(t_eval, sol_rk2[0], label=\"RK2\")\n",
    "plt.plot(t_eval, sol_rk4[0], label=\"RK4\")\n",
    "plt.plot(sol_scipy.t, sol_scipy.y[0], label=\"scipy RK45\")\n",
    "plt.legend()\n",
    "plt.show()"
   ]
  },
  {
   "cell_type": "markdown",
   "metadata": {},
   "source": [
    "# Performance\n",
    "\n",
    "We could mesure the performance of our solver and compare it with scipy."
   ]
  },
  {
   "cell_type": "code",
   "execution_count": null,
   "metadata": {},
   "outputs": [],
   "source": [
    "%timeit solver.solve_ivp(func_forced,t_span,y, \"RK4\", t_eval, args=(K,M,0.0,F0,WF))"
   ]
  },
  {
   "cell_type": "code",
   "execution_count": null,
   "metadata": {},
   "outputs": [],
   "source": [
    "%timeit solver_scipy(func_forced, [0,100], y, args=(K,M,0.0,F0,WF), t_eval=t_eval, method='RK45')"
   ]
  },
  {
   "cell_type": "markdown",
   "metadata": {},
   "source": [
    "Which one is faster?"
   ]
  }
 ],
 "metadata": {
  "kernelspec": {
   "display_name": "comphys-112",
   "language": "python",
   "name": "python3"
  },
  "language_info": {
   "codemirror_mode": {
    "name": "ipython",
    "version": 3
   },
   "file_extension": ".py",
   "mimetype": "text/x-python",
   "name": "python",
   "nbconvert_exporter": "python",
   "pygments_lexer": "ipython3",
   "version": "3.11.5"
  }
 },
 "nbformat": 4,
 "nbformat_minor": 2
}
