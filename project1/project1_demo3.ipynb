{
 "cells": [
  {
   "cell_type": "markdown",
   "metadata": {},
   "source": [
    "# Demo 3: A general IVP solver\n",
    "\n",
    "In this jupyter notebook, we will learn how to use the general IVP solver we wrote in `./project1/solver.py`.\n",
    "Let's start from reproducing the results in `demo1` and `demo2`.\n"
   ]
  },
  {
   "cell_type": "markdown",
   "metadata": {},
   "source": [
    "Before we start using the IVP solver, let's import the related packages first."
   ]
  },
  {
   "cell_type": "code",
   "execution_count": null,
   "metadata": {},
   "outputs": [],
   "source": [
    "import numpy as np\n",
    "import matplotlib.pyplot as plt\n",
    "import solver as mysolver             # your own solver\n",
    "import solution.solver_sol as solver  # compare your results with solution\n",
    "from scipy.integrate import solve_ivp as solver_scipy\n",
    "\n",
    "# Note that if the path of your jupyter notebook is different from the path of the solver.py file, \n",
    "# you need to add the relative path of the solver.py file during the import, for example:\n",
    "\n",
    "#import project1.solver as mysolver\n",
    "#import project1.solution.solver_sol as solver\n",
    "\n",
    "# Or, you can add the path of the solver.py file to the system path, for example:\n",
    "# import sys\n",
    "# sys.path.append('path_of_solver.py')\n"
   ]
  },
  {
   "cell_type": "markdown",
   "metadata": {},
   "source": [
    "Now, let's start to reproduce `demo1` and `demo2`.\n",
    "Set\n",
    "* t0 = 0 sec and tmax = 20 sec\n",
    "* time step dt = 0.01\n",
    "* The spring constant `K` = 1\n",
    "* The mass `M` = 1\n",
    "* Initial condition: `x=1`, `v=0`."
   ]
  },
  {
   "cell_type": "code",
   "execution_count": 1,
   "metadata": {},
   "outputs": [],
   "source": [
    "# define the y' funciotn\n",
    "\n",
    "\n",
    "\n",
    "# Prepare the input arguments\n",
    "\n",
    "\n",
    "# use the IVP solver\n",
    "\n",
    "\n",
    "\n"
   ]
  },
  {
   "cell_type": "code",
   "execution_count": 2,
   "metadata": {},
   "outputs": [],
   "source": [
    "# visualize the results\n",
    "\n",
    "\n"
   ]
  },
  {
   "cell_type": "markdown",
   "metadata": {},
   "source": [
    "# Damped Oscillation\n",
    "\n",
    "When there is a damping force ($F_{\\rm damp}=-\\lambda \\dot{x}$), the equation of motion becomes,\n",
    "\n",
    "$$\n",
    "m\\ddot{x} + \\lambda \\dot{x} + kx = 0\n",
    "$$\n",
    "\n",
    "### Exercise\n",
    "\n",
    "* Use the IVP solver we developed. The only differences are the `func` and initial conditions.\n",
    "* Modify the y' function (`func`) to simulate a damped oscillator (from t=0 to 20). IC: at t=0, K=M=1, A=1, $\\phi= 0$,$\\lambda=0.2$.\n",
    "* Make plots of position(t), velocity(t), and total energy (t). Comapred your results with analytical solutions."
   ]
  },
  {
   "cell_type": "code",
   "execution_count": 3,
   "metadata": {},
   "outputs": [],
   "source": [
    "# TODO\n",
    "\n",
    "\n",
    "\n",
    "\n",
    "\n",
    "\n",
    "\n"
   ]
  },
  {
   "cell_type": "markdown",
   "metadata": {},
   "source": [
    "### Analytical Solutions\n",
    "\n",
    "The analytical solution is\n",
    "\n",
    "$$\n",
    "x(t) = A e^{-\\gamma t} \\left[\\cos(\\omega t + \\phi) \\right],\n",
    "$$\n",
    "\n",
    "where $\\omega = \\sqrt{\\gamma^2 -\\omega_0^2}$ or $\\omega=\\sqrt{\\omega_0^2-\\gamma^2}$."
   ]
  },
  {
   "cell_type": "code",
   "execution_count": null,
   "metadata": {},
   "outputs": [],
   "source": [
    "# Compute the analytical solution\n",
    "\n",
    "\n",
    "\n",
    "\n",
    "\n"
   ]
  },
  {
   "cell_type": "markdown",
   "metadata": {},
   "source": [
    "## Part 2\n",
    "\n",
    "Now, let's explore the evolution of the three general cases:\n",
    "\n",
    "* Underdamping: $\\omega_0^2 > \\gamma^2$\n",
    "* Critical damping: $\\omega_0^2 = \\gamma^2$\n",
    "* Overdamping: $\\omega_0^2 < \\gamma^2$\n",
    "\n",
    "Vary $\\lambda$, to the corresponding conditions:\n",
    "* $\\lambda = 0.2$ ($\\omega_0^2 > \\gamma^2$)\n",
    "* $\\lambda = 2$ ($\\omega_0^2 = \\gamma^2$)\n",
    "* $\\lambda = 2.4$ ($\\omega_0^2 < \\gamma^2$)"
   ]
  },
  {
   "cell_type": "code",
   "execution_count": 4,
   "metadata": {},
   "outputs": [],
   "source": [
    "# TODO\n",
    "\n",
    "\n",
    "\n",
    "\n",
    "\n",
    "\n"
   ]
  },
  {
   "cell_type": "markdown",
   "metadata": {},
   "source": [
    "# Forced Oscillation\n",
    "\n",
    "* Use the IVP solver we developed. The only differences are the `func` and initial conditions.\n",
    "* Modify the y' function (`func`) to simulate a forced oscillator (from t=0 to 100).\n",
    "* Set the inital conditions: A=1, K=M=1, $\\lambda=0.2$, $F_0=0.1$ and $\\omega_f=0.8$.\n",
    "* Make plots of position(t), velocity(t), and total energy(t)."
   ]
  },
  {
   "cell_type": "code",
   "execution_count": 5,
   "metadata": {},
   "outputs": [],
   "source": [
    "# TODO\n",
    "\n",
    "\n",
    "\n",
    "\n",
    "\n"
   ]
  },
  {
   "cell_type": "markdown",
   "metadata": {},
   "source": [
    "# Resonance\n",
    "\n",
    "* Resonance will happen when $\\omega_0 = \\omega_f$ without damping.\n",
    "* Modify your `demo3` but set $\\lambda=0$ and $\\omega_f=1$.\n",
    "* Re-run your simulation with $\\lambda=0.1$ and $0.01$.\n"
   ]
  },
  {
   "cell_type": "code",
   "execution_count": 6,
   "metadata": {},
   "outputs": [],
   "source": [
    "# TODO\n",
    "\n",
    "\n",
    "\n",
    "\n",
    "\n"
   ]
  },
  {
   "cell_type": "markdown",
   "metadata": {},
   "source": [
    "# Using `scipy`\n",
    "\n",
    "Compare the results of our solver (`mysolver`) with the `solve_ivp` in `scipy`."
   ]
  },
  {
   "cell_type": "code",
   "execution_count": null,
   "metadata": {},
   "outputs": [],
   "source": [
    "# TODO\n",
    "\n",
    "\n",
    "\n",
    "\n",
    "\n"
   ]
  },
  {
   "cell_type": "markdown",
   "metadata": {},
   "source": [
    "# Performance\n",
    "\n",
    "We could mesure the performance of our solver and compare it with scipy."
   ]
  },
  {
   "cell_type": "code",
   "execution_count": 7,
   "metadata": {},
   "outputs": [],
   "source": [
    "#TODO\n",
    "\n",
    "\n",
    "\n",
    "\n",
    "\n"
   ]
  },
  {
   "cell_type": "markdown",
   "metadata": {},
   "source": [
    "Which one is faster?"
   ]
  }
 ],
 "metadata": {
  "kernelspec": {
   "display_name": "comphys-112",
   "language": "python",
   "name": "python3"
  },
  "language_info": {
   "codemirror_mode": {
    "name": "ipython",
    "version": 3
   },
   "file_extension": ".py",
   "mimetype": "text/x-python",
   "name": "python",
   "nbconvert_exporter": "python",
   "pygments_lexer": "ipython3",
   "version": "3.11.5"
  }
 },
 "nbformat": 4,
 "nbformat_minor": 2
}
