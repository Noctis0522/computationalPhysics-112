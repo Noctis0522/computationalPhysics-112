{
 "cells": [
  {
   "cell_type": "code",
   "execution_count": 1,
   "metadata": {},
   "outputs": [
    {
     "ename": "NameError",
     "evalue": "name 'self' is not defined",
     "output_type": "error",
     "traceback": [
      "\u001b[1;31m---------------------------------------------------------------------------\u001b[0m",
      "\u001b[1;31mNameError\u001b[0m                                 Traceback (most recent call last)",
      "Cell \u001b[1;32mIn[1], line 3\u001b[0m\n\u001b[0;32m      1\u001b[0m \u001b[38;5;28;01mimport\u001b[39;00m \u001b[38;5;21;01mnumpy\u001b[39;00m \u001b[38;5;28;01mas\u001b[39;00m \u001b[38;5;21;01mnp\u001b[39;00m\n\u001b[0;32m      2\u001b[0m \u001b[38;5;28;01mimport\u001b[39;00m \u001b[38;5;21;01mmatplotlib\u001b[39;00m\u001b[38;5;21;01m.\u001b[39;00m\u001b[38;5;21;01mpyplot\u001b[39;00m \u001b[38;5;28;01mas\u001b[39;00m \u001b[38;5;21;01mplt\u001b[39;00m\n\u001b[1;32m----> 3\u001b[0m \u001b[38;5;28;01mfrom\u001b[39;00m \u001b[38;5;21;01mnbody\u001b[39;00m \u001b[38;5;28;01mimport\u001b[39;00m Particles, NBodySimulator\n\u001b[0;32m      4\u001b[0m \u001b[38;5;28;01mfrom\u001b[39;00m \u001b[38;5;21;01mnbody\u001b[39;00m \u001b[38;5;28;01mimport\u001b[39;00m load_files, save_movie\n\u001b[0;32m      5\u001b[0m \u001b[38;5;28;01mfrom\u001b[39;00m \u001b[38;5;21;01mnumba\u001b[39;00m \u001b[38;5;28;01mimport\u001b[39;00m set_num_threads\n",
      "File \u001b[1;32mc:\\Users\\david\\code\\computationalPhysics-112\\project2\\solutions\\nbody\\__init__.py:1\u001b[0m\n\u001b[1;32m----> 1\u001b[0m \u001b[38;5;28;01mfrom\u001b[39;00m \u001b[38;5;21;01mnbody\u001b[39;00m\u001b[38;5;21;01m.\u001b[39;00m\u001b[38;5;21;01mparticles\u001b[39;00m \u001b[38;5;28;01mimport\u001b[39;00m Particles\n\u001b[0;32m      2\u001b[0m \u001b[38;5;28;01mfrom\u001b[39;00m \u001b[38;5;21;01mnbody\u001b[39;00m\u001b[38;5;21;01m.\u001b[39;00m\u001b[38;5;21;01msimulator\u001b[39;00m \u001b[38;5;28;01mimport\u001b[39;00m NBodySimulator\n\u001b[0;32m      3\u001b[0m \u001b[38;5;28;01mfrom\u001b[39;00m \u001b[38;5;21;01mnbody\u001b[39;00m\u001b[38;5;21;01m.\u001b[39;00m\u001b[38;5;21;01mvisualization\u001b[39;00m \u001b[38;5;28;01mimport\u001b[39;00m load_files, save_movie \n",
      "File \u001b[1;32mc:\\Users\\david\\code\\computationalPhysics-112\\project2\\solutions\\nbody\\particles.py:16\u001b[0m\n\u001b[0;32m      3\u001b[0m \u001b[38;5;28;01mfrom\u001b[39;00m \u001b[38;5;21;01mnumba\u001b[39;00m \u001b[38;5;28;01mimport\u001b[39;00m jit, njit, prange\n\u001b[0;32m      4\u001b[0m \u001b[38;5;124;03m\"\"\"\u001b[39;00m\n\u001b[0;32m      5\u001b[0m \n\u001b[0;32m      6\u001b[0m \u001b[38;5;124;03mThe Particles class handle all particle properties\u001b[39;00m\n\u001b[1;32m   (...)\u001b[0m\n\u001b[0;32m     13\u001b[0m \u001b[38;5;124;03mFor the course, computational physics, NTHU\u001b[39;00m\n\u001b[0;32m     14\u001b[0m \u001b[38;5;124;03m\"\"\"\u001b[39;00m\n\u001b[1;32m---> 16\u001b[0m \u001b[38;5;28;43;01mclass\u001b[39;49;00m\u001b[43m \u001b[49m\u001b[38;5;21;43;01mParticles\u001b[39;49;00m\u001b[43m:\u001b[49m\n\u001b[0;32m     17\u001b[0m \u001b[38;5;250;43m    \u001b[39;49m\u001b[38;5;124;43;03m\"\"\"\u001b[39;49;00m\n\u001b[0;32m     18\u001b[0m \u001b[38;5;124;43;03m    Particle class to store particle properties\u001b[39;49;00m\n\u001b[0;32m     19\u001b[0m \u001b[38;5;124;43;03m    \"\"\"\u001b[39;49;00m\n\u001b[0;32m     20\u001b[0m \u001b[43m    \u001b[49m\u001b[38;5;28;43;01mdef\u001b[39;49;00m\u001b[43m \u001b[49m\u001b[38;5;21;43m__init__\u001b[39;49m\u001b[43m(\u001b[49m\u001b[38;5;28;43mself\u001b[39;49m\u001b[43m,\u001b[49m\u001b[43m \u001b[49m\u001b[43mN\u001b[49m\u001b[43m:\u001b[49m\u001b[38;5;28;43mint\u001b[39;49m\u001b[38;5;241;43m=\u001b[39;49m\u001b[38;5;241;43m0\u001b[39;49m\u001b[43m)\u001b[49m\u001b[43m:\u001b[49m\n",
      "File \u001b[1;32mc:\\Users\\david\\code\\computationalPhysics-112\\project2\\solutions\\nbody\\particles.py:137\u001b[0m, in \u001b[0;36mParticles\u001b[1;34m()\u001b[0m\n\u001b[0;32m    133\u001b[0m \u001b[38;5;28;01mdef\u001b[39;00m \u001b[38;5;21mcalculate_EK\u001b[39m(\u001b[38;5;28mself\u001b[39m):\n\u001b[0;32m    134\u001b[0m \u001b[38;5;250m \u001b[39m\u001b[38;5;124;03m\"\"\"\u001b[39;00m\n\u001b[0;32m    135\u001b[0m \u001b[38;5;124;03m Calculate the kinetic energy of particles\u001b[39;00m\n\u001b[0;32m    136\u001b[0m \u001b[38;5;124;03m \"\"\"\u001b[39;00m\n\u001b[1;32m--> 137\u001b[0m \u001b[38;5;28mself\u001b[39m\u001b[38;5;241m.\u001b[39mEK \u001b[38;5;241m=\u001b[39m (\u001b[38;5;28;43mself\u001b[39;49m\u001b[38;5;241m.\u001b[39mvelocities[:, \u001b[38;5;241m0\u001b[39m] \u001b[38;5;241m*\u001b[39m\u001b[38;5;241m*\u001b[39m \u001b[38;5;241m2\u001b[39m \u001b[38;5;241m+\u001b[39m \u001b[38;5;28mself\u001b[39m\u001b[38;5;241m.\u001b[39mvelocities[:, \u001b[38;5;241m1\u001b[39m] \u001b[38;5;241m*\u001b[39m\u001b[38;5;241m*\u001b[39m \u001b[38;5;241m2\u001b[39m \u001b[38;5;241m+\u001b[39m \u001b[38;5;28mself\u001b[39m\u001b[38;5;241m.\u001b[39mvelocities[:, \u001b[38;5;241m2\u001b[39m] \u001b[38;5;241m*\u001b[39m\u001b[38;5;241m*\u001b[39m \u001b[38;5;241m2\u001b[39m) \\\n\u001b[0;32m    138\u001b[0m            \u001b[38;5;241m*\u001b[39m \u001b[38;5;28mself\u001b[39m\u001b[38;5;241m.\u001b[39mmasses \u001b[38;5;241m/\u001b[39m \u001b[38;5;241m2\u001b[39m\n\u001b[0;32m    139\u001b[0m \u001b[38;5;28;01mdef\u001b[39;00m \u001b[38;5;21moutput\u001b[39m(\u001b[38;5;28mself\u001b[39m, filename):\n\u001b[0;32m    140\u001b[0m \u001b[38;5;250m    \u001b[39m\u001b[38;5;124;03m\"\"\"\u001b[39;00m\n\u001b[0;32m    141\u001b[0m \u001b[38;5;124;03m    Output particle properties to a file\u001b[39;00m\n\u001b[0;32m    142\u001b[0m \n\u001b[0;32m    143\u001b[0m \u001b[38;5;124;03m    :param filename: output file name\u001b[39;00m\n\u001b[0;32m    144\u001b[0m \u001b[38;5;124;03m    \"\"\"\u001b[39;00m\n",
      "\u001b[1;31mNameError\u001b[0m: name 'self' is not defined"
     ]
    }
   ],
   "source": [
    "import numpy as np\n",
    "import matplotlib.pyplot as plt\n",
    "from nbody import Particles, NBodySimulator\n",
    "from nbody import load_files, save_movie\n",
    "from numba import set_num_threads\n",
    "from numba import jit, njit, prange"
   ]
  },
  {
   "cell_type": "code",
   "execution_count": null,
   "metadata": {},
   "outputs": [],
   "source": [
    "# Uncomment the following line to install required packages if needed\n",
    "\n",
    "#!conda install -y -c conda-forge ffmpeg, glob, numba"
   ]
  },
  {
   "cell_type": "markdown",
   "metadata": {},
   "source": [
    "# N-Body Simulation\n",
    "\n",
    "In this notebook, we will test the `NBodySimulator` class in `./nbody/simulator.py`. "
   ]
  },
  {
   "cell_type": "code",
   "execution_count": null,
   "metadata": {},
   "outputs": [],
   "source": [
    "# Set the number of threads to use for numba\n",
    "nthreads = 1\n",
    "set_num_threads(nthreads)"
   ]
  },
  {
   "cell_type": "markdown",
   "metadata": {},
   "source": [
    "# Exercise 1: The Sun-Earth System\n",
    "\n",
    "The first test is to implment the Sun-Earth system, which is a two body system. We need to make sure that you could simulate a circular motion first."
   ]
  },
  {
   "cell_type": "markdown",
   "metadata": {},
   "source": [
    "## Step 1. The initial condition\n",
    "\n",
    "Copy the initial condition of the Earth-Sun system from `project2_demo1.ipynb`."
   ]
  },
  {
   "cell_type": "code",
   "execution_count": null,
   "metadata": {},
   "outputs": [
    {
     "data": {
      "image/png": "[encoded data removed]",
      "text/plain": [
       "<Figure size 640x480 with 1 Axes>"
      ]
     },
     "metadata": {},
     "output_type": "display_data"
    }
   ],
   "source": [
    "sun_mass = 1.989e30 # kg\n",
    "earth_mass = 5.972e24 # kg\n",
    "separation = 1.496e11 # m\n",
    "period = 3.154e7 # s\n",
    "r_sun = separation * earth_mass / (sun_mass + earth_mass)\n",
    "r_earth = separation * sun_mass / (sun_mass + earth_mass)\n",
    "vy_sun = 2 * np.pi * r_sun / period\n",
    "vy_earth = 2 * np.pi * r_earth / period\n",
    "\n",
    "pts = Particles(N=2)\n",
    "pts.masses = np.array([[sun_mass], [earth_mass]])\n",
    "pts.positions = np.array([[-r_sun, 0, 0], [r_earth, 0, 0]])\n",
    "pts.velocities = np.array([[0, -vy_sun, 0], [0, vy_earth, 0]])\n",
    "pts.accelerations = np.zeros((2, 3))\n",
    "pts.tags = np.array([1, 2])\n",
    "\n",
    "# visualize the system\n",
    "plt.figure()\n",
    "plt.plot(pts.positions[1, 0], pts.positions[1, 1], 'o', label='Earth')\n",
    "plt.plot(pts.positions[0, 0], pts.positions[0, 1], 'o', label='Sun')\n",
    "plt.xlabel('x')\n",
    "plt.ylabel('y')\n",
    "plt.legend()\n",
    "plt.show()\n",
    "\n",
    "\n",
    "\n",
    "\n"
   ]
  },
  {
   "cell_type": "markdown",
   "metadata": {},
   "source": [
    "## Step 2. N-body simulation\n",
    "\n",
    "Make sure you have implmented the below two methods `setup()` and `evolve()`. Run the n-body simulation by:"
   ]
  },
  {
   "cell_type": "code",
   "execution_count": null,
   "metadata": {},
   "outputs": [
    {
     "ename": "TypingError",
     "evalue": "Failed in nopython mode pipeline (step: nopython frontend)\n\u001b[1m\u001b[1mnon-precise type pyobject\u001b[0m\n\u001b[0m\u001b[1mDuring: typing of argument at c:\\Users\\david\\code\\computationalPhysics-112\\project2\\solutions\\nbody\\simulator.py (141)\u001b[0m\n\u001b[1m\nFile \"nbody\\simulator.py\", line 141:\u001b[0m\n\u001b[1m    def _advance_particles_Euler(self, dt, particles):\n        <source elided>\n        return particles\n\u001b[1m    @jit\n\u001b[0m    \u001b[1m^\u001b[0m\u001b[0m \n\nThis error may have been caused by the following argument(s):\n- argument 0: \u001b[1mCannot determine Numba type of <class 'nbody.simulator.NBodySimulator'>\u001b[0m\n- argument 2: \u001b[1mCannot determine Numba type of <class 'nbody.particles.Particles'>\u001b[0m \n\nThis error may have been caused by the following argument(s):\n- argument 0: \u001b[1mCannot determine Numba type of <class 'nbody.simulator.NBodySimulator'>\u001b[0m\n- argument 2: \u001b[1mCannot determine Numba type of <class 'nbody.particles.Particles'>\u001b[0m\n",
     "output_type": "error",
     "traceback": [
      "\u001b[1;31m---------------------------------------------------------------------------\u001b[0m",
      "\u001b[1;31mTypingError\u001b[0m                               Traceback (most recent call last)",
      "Cell \u001b[1;32mIn[6], line 3\u001b[0m\n\u001b[0;32m      1\u001b[0m simulation \u001b[38;5;241m=\u001b[39m NBodySimulator(particles\u001b[38;5;241m=\u001b[39mpts)\n\u001b[0;32m      2\u001b[0m simulation\u001b[38;5;241m.\u001b[39msetup(G\u001b[38;5;241m=\u001b[39m\u001b[38;5;241m6.674e-11\u001b[39m,rsoft\u001b[38;5;241m=\u001b[39m\u001b[38;5;241m1e8\u001b[39m,method\u001b[38;5;241m=\u001b[39m\u001b[38;5;124m'\u001b[39m\u001b[38;5;124mRK2\u001b[39m\u001b[38;5;124m'\u001b[39m, io_freq\u001b[38;5;241m=\u001b[39m\u001b[38;5;241m30\u001b[39m)\n\u001b[1;32m----> 3\u001b[0m \u001b[43msimulation\u001b[49m\u001b[38;5;241;43m.\u001b[39;49m\u001b[43mevolve\u001b[49m\u001b[43m(\u001b[49m\u001b[43mdt\u001b[49m\u001b[38;5;241;43m=\u001b[39;49m\u001b[38;5;241;43m8640\u001b[39;49m\u001b[43m,\u001b[49m\u001b[43m \u001b[49m\u001b[43mtmax\u001b[49m\u001b[38;5;241;43m=\u001b[39;49m\u001b[38;5;241;43m365\u001b[39;49m\u001b[38;5;241;43m*\u001b[39;49m\u001b[38;5;241;43m86400\u001b[39;49m\u001b[43m)\u001b[49m\n",
      "File \u001b[1;32mc:\\Users\\david\\code\\computationalPhysics-112\\project2\\solutions\\nbody\\simulator.py:96\u001b[0m, in \u001b[0;36mNBodySimulator.evolve\u001b[1;34m(self, dt, tmax)\u001b[0m\n\u001b[0;32m     93\u001b[0m \u001b[38;5;28;01mif\u001b[39;00m (time\u001b[38;5;241m+\u001b[39mdt \u001b[38;5;241m>\u001b[39m tmax): dt \u001b[38;5;241m=\u001b[39m tmax \u001b[38;5;241m-\u001b[39m time\n\u001b[0;32m     95\u001b[0m \u001b[38;5;66;03m# advance the particles\u001b[39;00m\n\u001b[1;32m---> 96\u001b[0m particles \u001b[38;5;241m=\u001b[39m \u001b[43m_advance_particles\u001b[49m\u001b[43m(\u001b[49m\u001b[43mdt\u001b[49m\u001b[43m,\u001b[49m\u001b[43m \u001b[49m\u001b[43mparticles\u001b[49m\u001b[43m)\u001b[49m\n\u001b[0;32m     98\u001b[0m \u001b[38;5;66;03m# output data if needed\u001b[39;00m\n\u001b[0;32m     99\u001b[0m \u001b[38;5;28;01mif\u001b[39;00m (n \u001b[38;5;241m%\u001b[39m \u001b[38;5;28mself\u001b[39m\u001b[38;5;241m.\u001b[39mio_freq \u001b[38;5;241m==\u001b[39m \u001b[38;5;241m0\u001b[39m):\n",
      "File \u001b[1;32mc:\\Users\\david\\anaconda3\\envs\\comphys\\Lib\\site-packages\\numba\\core\\dispatcher.py:468\u001b[0m, in \u001b[0;36m_DispatcherBase._compile_for_args\u001b[1;34m(self, *args, **kws)\u001b[0m\n\u001b[0;32m    464\u001b[0m         msg \u001b[38;5;241m=\u001b[39m (\u001b[38;5;124mf\u001b[39m\u001b[38;5;124m\"\u001b[39m\u001b[38;5;132;01m{\u001b[39;00m\u001b[38;5;28mstr\u001b[39m(e)\u001b[38;5;241m.\u001b[39mrstrip()\u001b[38;5;132;01m}\u001b[39;00m\u001b[38;5;124m \u001b[39m\u001b[38;5;130;01m\\n\u001b[39;00m\u001b[38;5;130;01m\\n\u001b[39;00m\u001b[38;5;124mThis error may have been caused \u001b[39m\u001b[38;5;124m\"\u001b[39m\n\u001b[0;32m    465\u001b[0m                \u001b[38;5;124mf\u001b[39m\u001b[38;5;124m\"\u001b[39m\u001b[38;5;124mby the following argument(s):\u001b[39m\u001b[38;5;130;01m\\n\u001b[39;00m\u001b[38;5;132;01m{\u001b[39;00margs_str\u001b[38;5;132;01m}\u001b[39;00m\u001b[38;5;130;01m\\n\u001b[39;00m\u001b[38;5;124m\"\u001b[39m)\n\u001b[0;32m    466\u001b[0m         e\u001b[38;5;241m.\u001b[39mpatch_message(msg)\n\u001b[1;32m--> 468\u001b[0m     \u001b[43merror_rewrite\u001b[49m\u001b[43m(\u001b[49m\u001b[43me\u001b[49m\u001b[43m,\u001b[49m\u001b[43m \u001b[49m\u001b[38;5;124;43m'\u001b[39;49m\u001b[38;5;124;43mtyping\u001b[39;49m\u001b[38;5;124;43m'\u001b[39;49m\u001b[43m)\u001b[49m\n\u001b[0;32m    469\u001b[0m \u001b[38;5;28;01mexcept\u001b[39;00m errors\u001b[38;5;241m.\u001b[39mUnsupportedError \u001b[38;5;28;01mas\u001b[39;00m e:\n\u001b[0;32m    470\u001b[0m     \u001b[38;5;66;03m# Something unsupported is present in the user code, add help info\u001b[39;00m\n\u001b[0;32m    471\u001b[0m     error_rewrite(e, \u001b[38;5;124m'\u001b[39m\u001b[38;5;124munsupported_error\u001b[39m\u001b[38;5;124m'\u001b[39m)\n",
      "File \u001b[1;32mc:\\Users\\david\\anaconda3\\envs\\comphys\\Lib\\site-packages\\numba\\core\\dispatcher.py:409\u001b[0m, in \u001b[0;36m_DispatcherBase._compile_for_args.<locals>.error_rewrite\u001b[1;34m(e, issue_type)\u001b[0m\n\u001b[0;32m    407\u001b[0m     \u001b[38;5;28;01mraise\u001b[39;00m e\n\u001b[0;32m    408\u001b[0m \u001b[38;5;28;01melse\u001b[39;00m:\n\u001b[1;32m--> 409\u001b[0m     \u001b[38;5;28;01mraise\u001b[39;00m e\u001b[38;5;241m.\u001b[39mwith_traceback(\u001b[38;5;28;01mNone\u001b[39;00m)\n",
      "\u001b[1;31mTypingError\u001b[0m: Failed in nopython mode pipeline (step: nopython frontend)\n\u001b[1m\u001b[1mnon-precise type pyobject\u001b[0m\n\u001b[0m\u001b[1mDuring: typing of argument at c:\\Users\\david\\code\\computationalPhysics-112\\project2\\solutions\\nbody\\simulator.py (141)\u001b[0m\n\u001b[1m\nFile \"nbody\\simulator.py\", line 141:\u001b[0m\n\u001b[1m    def _advance_particles_Euler(self, dt, particles):\n        <source elided>\n        return particles\n\u001b[1m    @jit\n\u001b[0m    \u001b[1m^\u001b[0m\u001b[0m \n\nThis error may have been caused by the following argument(s):\n- argument 0: \u001b[1mCannot determine Numba type of <class 'nbody.simulator.NBodySimulator'>\u001b[0m\n- argument 2: \u001b[1mCannot determine Numba type of <class 'nbody.particles.Particles'>\u001b[0m \n\nThis error may have been caused by the following argument(s):\n- argument 0: \u001b[1mCannot determine Numba type of <class 'nbody.simulator.NBodySimulator'>\u001b[0m\n- argument 2: \u001b[1mCannot determine Numba type of <class 'nbody.particles.Particles'>\u001b[0m\n"
     ]
    }
   ],
   "source": [
    "simulation = NBodySimulator(particles=pts)\n",
    "simulation.setup(G=6.674e-11,rsoft=1e8,method='RK2', io_freq=30)\n",
    "simulation.evolve(dt=8640, tmax=365*86400)"
   ]
  },
  {
   "cell_type": "markdown",
   "metadata": {},
   "source": [
    "## Step 3. Visualization\n",
    "\n",
    "Check the code in `./nobdy/visualization.py`.\n",
    "Data loader is implmented in the function `load_files`."
   ]
  },
  {
   "cell_type": "code",
   "execution_count": null,
   "metadata": {},
   "outputs": [],
   "source": [
    "fns = load_files('nbody')\n",
    "print(fns)"
   ]
  },
  {
   "cell_type": "markdown",
   "metadata": {},
   "source": [
    "Modify the matplotlib script "
   ]
  },
  {
   "cell_type": "code",
   "execution_count": null,
   "metadata": {},
   "outputs": [],
   "source": [
    "au = 1.496e11\n",
    "save_movie(fns, lengthscale=2*au,filename='nbody_earth_sun.mp4', fps=10)"
   ]
  },
  {
   "cell_type": "markdown",
   "metadata": {},
   "source": [
    "# Exercise 2: N-Body simulation\n",
    "\n",
    "Now, let's test our n-body solver with more particles. Copy the initial condition from the Exercise 2 in `project2_demo1.ipynb`."
   ]
  },
  {
   "cell_type": "code",
   "execution_count": null,
   "metadata": {},
   "outputs": [],
   "source": [
    "num_particles = 100\n",
    "pts = Particles(N=num_particles)\n",
    "pts.masses = np.ones((num_particles, 1))* 10/num_particles\n",
    "pts.positions = np.random.randn(num_particles, 3)\n",
    "pts.velocities = np.random.randn(num_particles, 3)\n",
    "pts.accelerations = np.zeros((num_particles, 3))\n",
    "\n",
    "# visualize the system\n",
    "pts.draw(dim=3)\n",
    "\n",
    "\n",
    "\n",
    "\n",
    "\n"
   ]
  },
  {
   "cell_type": "markdown",
   "metadata": {},
   "source": [
    "## Step 2. Simulation.\n",
    "\n",
    "Visualize the system but use dimensionless units. Set `G=1` and `rsoft=0.001`."
   ]
  },
  {
   "cell_type": "code",
   "execution_count": null,
   "metadata": {},
   "outputs": [],
   "source": [
    "simulation = NBodySimulator(particles=pts)\n",
    "simulation.setup(G=1,rsoft=0.001,method='RK2', io_freq=10, io_header='cluster')\n",
    "simulation.evolve(dt=0.01, tmax=0.05)"
   ]
  },
  {
   "cell_type": "code",
   "execution_count": null,
   "metadata": {},
   "outputs": [],
   "source": [
    "import time\n",
    "start = time.time()\n",
    "simulation.evolve(dt=0.01, tmax=1)\n",
    "end = time.time()\n",
    "print('Time taken for 1 sim:', end-start)"
   ]
  },
  {
   "cell_type": "code",
   "execution_count": null,
   "metadata": {},
   "outputs": [],
   "source": [
    "@njit(parallel=True)\n",
    "def loop(N=1000_000):\n",
    "    _ = 0\n",
    "    for i in prange(N):\n",
    "        for j in prange(N):\n",
    "            _ += i*j\n",
    "    return\n"
   ]
  },
  {
   "cell_type": "code",
   "execution_count": null,
   "metadata": {},
   "outputs": [
    {
     "name": "stdout",
     "output_type": "stream",
     "text": [
      "84.9 µs ± 7.43 µs per loop (mean ± std. dev. of 7 runs, 10,000 loops each)\n"
     ]
    }
   ],
   "source": [
    "%timeit loop(1000_000)"
   ]
  },
  {
   "cell_type": "markdown",
   "metadata": {},
   "source": [
    "It is VERY slow !!!!\n",
    "\n",
    "Beacuse the accerlation calculations requires order of NxN calculations!\n",
    "Could we improve it?\n",
    "\n",
    "First, we should avoid the two \"for\" loops in the calculation using python.\\\n",
    "Second, we have many cup cores in our machine. Could we parallelize it?"
   ]
  },
  {
   "cell_type": "code",
   "execution_count": null,
   "metadata": {},
   "outputs": [],
   "source": []
  },
  {
   "cell_type": "markdown",
   "metadata": {},
   "source": [
    "# `numba`\n",
    "\n",
    "Step 1. Take out the function to calculate the accerlation from the class into a pure function that only counts math calculations (aka. a kernel).\n",
    "\n",
    "Step 2. Use the `numba`'s `@jit` micro. \n",
    "\n",
    "Results: In my experiments. I got roughly x140 speed up with the @jit(nopython=True). \n",
    "\n",
    "Step 3. Try using `@njit` and `prange` in numba."
   ]
  },
  {
   "cell_type": "markdown",
   "metadata": {},
   "source": [
    "## Performance\n",
    "\n",
    "### Strong Scaling Test\n",
    "\n",
    "**Strong scaling**: The number of processors is increased while the problem size remains constant.\\\n",
    "We could use `%timeit` to measure the performance. Let's run 1000 particles for 10 step."
   ]
  },
  {
   "cell_type": "code",
   "execution_count": null,
   "metadata": {},
   "outputs": [],
   "source": [
    "num_particles = 1000\n",
    "pts = Particles(N=num_particles)\n",
    "pts.masses = np.ones((num_particles, 1))* 10/num_particles\n",
    "pts.positions = np.random.randn(num_particles, 3)\n",
    "pts.velocities = np.random.randn(num_particles, 3)\n",
    "pts.accelerations = np.zeros((num_particles, 3))\n",
    "\n",
    "simulation = NBodySimulator(particles=pts)\n",
    "simulation.setup(G=1,rsoft=0.001,method='RK4', io_screen=False, io_freq=0, io_header='cluster')\n",
    "#simulation.evolve(dt=0.02, tmax=1)"
   ]
  },
  {
   "cell_type": "code",
   "execution_count": null,
   "metadata": {},
   "outputs": [],
   "source": [
    "%timeit simulation.evolve(dt=0.02, tmax=0.2)"
   ]
  },
  {
   "cell_type": "markdown",
   "metadata": {},
   "source": [
    "**Kuo-Chuan's measurements**\n",
    "\n",
    "CPU: 3 GHz 10-Core Intel Xeon W\n",
    "\n",
    "1000 particles. 10 steps.\n",
    "\n",
    "without `numba`: 5min 31s ± 2 s per loop (mean ± std. dev. of 7 runs, 1 loop each)\n",
    "with `numba`:\n",
    "* 1 core (`jit`): 17.7 s ± 328 ms per loop (mean ± std. dev. of 7 runs, 1 loop each)\n",
    "* 1 core (`njit`): 10.4 s ± 337 ms per loop (mean ± std. dev. of 7 runs, 1 loop each)\n",
    "* 2 cores: 7.61 s ± 52.8 ms per loop (mean ± std. dev. of 7 runs, 1 loop each)\n",
    "* 6 cores: 3.35 s ± 50.9 ms per loop (mean ± std. dev. of 7 runs, 1 loop each)\n",
    "* 10 cores: 2.12 s ± 16.2 ms per loop (mean ± std. dev. of 7 runs, 1 loop each)\n",
    "* 12 cores: 1.95 s ± 36.1 ms per loop (mean ± std. dev. of 7 runs, 1 loop each)\n",
    "* 16 cores: 1.64 s ± 46 ms per loop (mean ± std. dev. of 7 runs, 1 loop each)\n",
    "* 20 cores: 1.49 s ± 55.1 ms per loop (mean ± std. dev. of 7 runs, 1 loop each)"
   ]
  },
  {
   "cell_type": "code",
   "execution_count": null,
   "metadata": {},
   "outputs": [],
   "source": [
    "threads = [1,2,6,10,12,16,20]                     # Replace it to your measured values\n",
    "times = [10.4, 7.61, 3.35, 2.12, 1.95, 1.64,1.49] # Replace it to your measured values\n",
    "ideal = times[0]/np.array(threads)\n",
    "plt.loglog(threads, times)\n",
    "plt.loglog(threads, ideal, '--')\n",
    "plt.xlabel('Number of threads')\n",
    "plt.ylabel('Time for 10 iterations (s)')\n",
    "plt.legend(['Measured', 'Ideal'])\n",
    "plt.title('Strong scaling')\n",
    "plt.show()"
   ]
  },
  {
   "cell_type": "markdown",
   "metadata": {},
   "source": [
    "## Weak Scaling Test\n",
    "\n",
    "In N-body simulation, the problem size is proportional to $N^2$.\\\n",
    "**Weaking scaling** test measures the scaling with the same problem size per thread (core)."
   ]
  },
  {
   "cell_type": "code",
   "execution_count": null,
   "metadata": {},
   "outputs": [],
   "source": [
    "num_particles = int(225*np.sqrt(nthreads))\n",
    "print(\"N =\", num_particles, \", threads = \", nthreads)\n",
    "pts = Particles(N=num_particles)\n",
    "pts.masses = np.ones((num_particles, 1))* 10/num_particles\n",
    "pts.positions = np.random.randn(num_particles, 3)\n",
    "pts.velocities = np.random.randn(num_particles, 3)\n",
    "pts.accelerations = np.zeros((num_particles, 3))\n",
    "\n",
    "simulation = NBodySimulator(particles=pts)\n",
    "simulation.setup(G=1,rsoft=0.001,method='RK4', io_screen=False, io_freq=0, io_header='cluster')"
   ]
  },
  {
   "cell_type": "code",
   "execution_count": null,
   "metadata": {},
   "outputs": [],
   "source": [
    "%timeit simulation.evolve(dt=0.02, tmax=0.2)"
   ]
  },
  {
   "cell_type": "markdown",
   "metadata": {},
   "source": [
    "Kuo-Chuan's measurements\n",
    "\n",
    "* N = 225 threads =  1: 537 ms ± 13.9 ms per loop (mean ± std. dev. of 7 runs, 1 loop each)\n",
    "* N = 450 threads =  4: 981 ms ± 17.3 ms per loop (mean ± std. dev. of 7 runs, 1 loop each)\n",
    "* N = 636 threads =  8: 1.07 s ± 22.3 ms per loop (mean ± std. dev. of 7 runs, 1 loop each)\n",
    "* N = 779 threads =  12: 1.17 s ± 33.7 ms per loop (mean ± std. dev. of 7 runs, 1 loop each)\n",
    "* N = 900 threads =  16: 1.29 s ± 6.85 ms per loop (mean ± std. dev. of 7 runs, 1 loop each)\n",
    "* N = 1006 threads =  20: 1.51 s ± 35.3 ms per loop (mean ± std. dev. of 7 runs, 1 loop each)"
   ]
  },
  {
   "cell_type": "code",
   "execution_count": null,
   "metadata": {},
   "outputs": [],
   "source": [
    "threads = [1,4,8,12,16,20]                     # Replace it to your measured values\n",
    "times = [0.537, 0.981, 1.07, 1.17, 1.29, 1.51] # Replace it to your measured values\n",
    "ideal = 0.981 * np.ones(len(threads))\n",
    "plt.plot(threads, times)\n",
    "plt.plot(threads, ideal, '--')\n",
    "plt.xlabel('Number of threads')\n",
    "plt.ylabel('Time for 10 iterations (s)')\n",
    "plt.legend(['Measured', 'Ideal'])\n",
    "plt.title('Weak scaling')\n",
    "plt.show()"
   ]
  }
 ],
 "metadata": {
  "kernelspec": {
   "display_name": "comphys-112",
   "language": "python",
   "name": "python3"
  },
  "language_info": {
   "codemirror_mode": {
    "name": "ipython",
    "version": 3
   },
   "file_extension": ".py",
   "mimetype": "text/x-python",
   "name": "python",
   "nbconvert_exporter": "python",
   "pygments_lexer": "ipython3",
   "version": "3.11.7"
  }
 },
 "nbformat": 4,
 "nbformat_minor": 2
}
