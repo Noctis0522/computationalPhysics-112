{
 "cells": [
  {
   "cell_type": "code",
   "execution_count": 1,
   "metadata": {},
   "outputs": [],
   "source": [
    "import numpy as np\n",
    "import matplotlib.pyplot as plt\n",
    "from nbody import Particles, NBodySimulator\n",
    "from nbody import load_files, save_movie\n",
    "from numba import set_num_threads"
   ]
  },
  {
   "cell_type": "code",
   "execution_count": 2,
   "metadata": {},
   "outputs": [],
   "source": [
    "# Uncomment the following line to install required packages if needed\n",
    "\n",
    "#!conda install -y -c conda-forge ffmpeg, glob, numba"
   ]
  },
  {
   "cell_type": "markdown",
   "metadata": {},
   "source": [
    "# N-Body Simulation\n",
    "\n",
    "In this notebook, we will test the `NBodySimulator` class in `./nbody/simulator.py`. "
   ]
  },
  {
   "cell_type": "code",
   "execution_count": 3,
   "metadata": {},
   "outputs": [],
   "source": [
    "# Set the number of threads to use for numba\n",
    "nthreads = 1\n",
    "set_num_threads(nthreads)"
   ]
  },
  {
   "cell_type": "markdown",
   "metadata": {},
   "source": [
    "# Exercise 1: The Sun-Earth System\n",
    "\n",
    "The first test is to implment the Sun-Earth system, which is a two body system. We need to make sure that you could simulate a circular motion first."
   ]
  },
  {
   "cell_type": "markdown",
   "metadata": {},
   "source": [
    "## Step 1. The initial condition\n",
    "\n",
    "Copy the initial condition of the Earth-Sun system from `project2_demo1.ipynb`."
   ]
  },
  {
   "cell_type": "code",
   "execution_count": 4,
   "metadata": {},
   "outputs": [],
   "source": [
    "# TODO:\n",
    "particles = Particles(N=2)\n",
    "\n",
    "\n",
    "\n",
    "\n",
    "\n",
    "\n"
   ]
  },
  {
   "cell_type": "markdown",
   "metadata": {},
   "source": [
    "## Step 2. N-body simulation\n",
    "\n",
    "Make sure you have implmented the below two methods `setup()` and `evolve()`. Run the n-body simulation by:"
   ]
  },
  {
   "cell_type": "code",
   "execution_count": 5,
   "metadata": {},
   "outputs": [
    {
     "name": "stdout",
     "output_type": "stream",
     "text": [
      "n= 0 Time:  0.0  dt:  8640\n",
      "n= 30 Time:  259200.0  dt:  8640\n",
      "n= 60 Time:  518400.0  dt:  8640\n",
      "n= 90 Time:  777600.0  dt:  8640\n",
      "n= 120 Time:  1036800.0  dt:  8640\n",
      "n= 150 Time:  1296000.0  dt:  8640\n",
      "n= 180 Time:  1555200.0  dt:  8640\n",
      "n= 210 Time:  1814400.0  dt:  8640\n",
      "n= 240 Time:  2073600.0  dt:  8640\n",
      "n= 270 Time:  2332800.0  dt:  8640\n",
      "n= 300 Time:  2592000.0  dt:  8640\n",
      "n= 330 Time:  2851200.0  dt:  8640\n",
      "n= 360 Time:  3110400.0  dt:  8640\n",
      "n= 390 Time:  3369600.0  dt:  8640\n",
      "n= 420 Time:  3628800.0  dt:  8640\n",
      "n= 450 Time:  3888000.0  dt:  8640\n",
      "n= 480 Time:  4147200.0  dt:  8640\n",
      "n= 510 Time:  4406400.0  dt:  8640\n",
      "n= 540 Time:  4665600.0  dt:  8640\n",
      "n= 570 Time:  4924800.0  dt:  8640\n",
      "n= 600 Time:  5184000.0  dt:  8640\n",
      "n= 630 Time:  5443200.0  dt:  8640\n",
      "n= 660 Time:  5702400.0  dt:  8640\n",
      "n= 690 Time:  5961600.0  dt:  8640\n",
      "n= 720 Time:  6220800.0  dt:  8640\n",
      "n= 750 Time:  6480000.0  dt:  8640\n",
      "n= 780 Time:  6739200.0  dt:  8640\n",
      "n= 810 Time:  6998400.0  dt:  8640\n",
      "n= 840 Time:  7257600.0  dt:  8640\n",
      "n= 870 Time:  7516800.0  dt:  8640\n",
      "n= 900 Time:  7776000.0  dt:  8640\n",
      "n= 930 Time:  8035200.0  dt:  8640\n",
      "n= 960 Time:  8294400.0  dt:  8640\n",
      "n= 990 Time:  8553600.0  dt:  8640\n",
      "n= 1020 Time:  8812800.0  dt:  8640\n",
      "n= 1050 Time:  9072000.0  dt:  8640\n",
      "n= 1080 Time:  9331200.0  dt:  8640\n",
      "n= 1110 Time:  9590400.0  dt:  8640\n",
      "n= 1140 Time:  9849600.0  dt:  8640\n",
      "n= 1170 Time:  10108800.0  dt:  8640\n",
      "n= 1200 Time:  10368000.0  dt:  8640\n",
      "n= 1230 Time:  10627200.0  dt:  8640\n",
      "n= 1260 Time:  10886400.0  dt:  8640\n",
      "n= 1290 Time:  11145600.0  dt:  8640\n",
      "n= 1320 Time:  11404800.0  dt:  8640\n",
      "n= 1350 Time:  11664000.0  dt:  8640\n",
      "n= 1380 Time:  11923200.0  dt:  8640\n",
      "n= 1410 Time:  12182400.0  dt:  8640\n",
      "n= 1440 Time:  12441600.0  dt:  8640\n",
      "n= 1470 Time:  12700800.0  dt:  8640\n",
      "n= 1500 Time:  12960000.0  dt:  8640\n",
      "n= 1530 Time:  13219200.0  dt:  8640\n",
      "n= 1560 Time:  13478400.0  dt:  8640\n",
      "n= 1590 Time:  13737600.0  dt:  8640\n",
      "n= 1620 Time:  13996800.0  dt:  8640\n",
      "n= 1650 Time:  14256000.0  dt:  8640\n",
      "n= 1680 Time:  14515200.0  dt:  8640\n",
      "n= 1710 Time:  14774400.0  dt:  8640\n",
      "n= 1740 Time:  15033600.0  dt:  8640\n",
      "n= 1770 Time:  15292800.0  dt:  8640\n",
      "n= 1800 Time:  15552000.0  dt:  8640\n",
      "n= 1830 Time:  15811200.0  dt:  8640\n",
      "n= 1860 Time:  16070400.0  dt:  8640\n",
      "n= 1890 Time:  16329600.0  dt:  8640\n",
      "n= 1920 Time:  16588800.0  dt:  8640\n",
      "n= 1950 Time:  16848000.0  dt:  8640\n",
      "n= 1980 Time:  17107200.0  dt:  8640\n",
      "n= 2010 Time:  17366400.0  dt:  8640\n",
      "n= 2040 Time:  17625600.0  dt:  8640\n",
      "n= 2070 Time:  17884800.0  dt:  8640\n",
      "n= 2100 Time:  18144000.0  dt:  8640\n",
      "n= 2130 Time:  18403200.0  dt:  8640\n",
      "n= 2160 Time:  18662400.0  dt:  8640\n",
      "n= 2190 Time:  18921600.0  dt:  8640\n",
      "n= 2220 Time:  19180800.0  dt:  8640\n",
      "n= 2250 Time:  19440000.0  dt:  8640\n",
      "n= 2280 Time:  19699200.0  dt:  8640\n",
      "n= 2310 Time:  19958400.0  dt:  8640\n",
      "n= 2340 Time:  20217600.0  dt:  8640\n",
      "n= 2370 Time:  20476800.0  dt:  8640\n",
      "n= 2400 Time:  20736000.0  dt:  8640\n",
      "n= 2430 Time:  20995200.0  dt:  8640\n",
      "n= 2460 Time:  21254400.0  dt:  8640\n",
      "n= 2490 Time:  21513600.0  dt:  8640\n",
      "n= 2520 Time:  21772800.0  dt:  8640\n",
      "n= 2550 Time:  22032000.0  dt:  8640\n",
      "n= 2580 Time:  22291200.0  dt:  8640\n",
      "n= 2610 Time:  22550400.0  dt:  8640\n",
      "n= 2640 Time:  22809600.0  dt:  8640\n",
      "n= 2670 Time:  23068800.0  dt:  8640\n",
      "n= 2700 Time:  23328000.0  dt:  8640\n",
      "n= 2730 Time:  23587200.0  dt:  8640\n",
      "n= 2760 Time:  23846400.0  dt:  8640\n",
      "n= 2790 Time:  24105600.0  dt:  8640\n",
      "n= 2820 Time:  24364800.0  dt:  8640\n",
      "n= 2850 Time:  24624000.0  dt:  8640\n",
      "n= 2880 Time:  24883200.0  dt:  8640\n",
      "n= 2910 Time:  25142400.0  dt:  8640\n",
      "n= 2940 Time:  25401600.0  dt:  8640\n",
      "n= 2970 Time:  25660800.0  dt:  8640\n",
      "n= 3000 Time:  25920000.0  dt:  8640\n",
      "n= 3030 Time:  26179200.0  dt:  8640\n",
      "n= 3060 Time:  26438400.0  dt:  8640\n",
      "n= 3090 Time:  26697600.0  dt:  8640\n",
      "n= 3120 Time:  26956800.0  dt:  8640\n",
      "n= 3150 Time:  27216000.0  dt:  8640\n",
      "n= 3180 Time:  27475200.0  dt:  8640\n",
      "n= 3210 Time:  27734400.0  dt:  8640\n",
      "n= 3240 Time:  27993600.0  dt:  8640\n",
      "n= 3270 Time:  28252800.0  dt:  8640\n",
      "n= 3300 Time:  28512000.0  dt:  8640\n",
      "n= 3330 Time:  28771200.0  dt:  8640\n",
      "n= 3360 Time:  29030400.0  dt:  8640\n",
      "n= 3390 Time:  29289600.0  dt:  8640\n",
      "n= 3420 Time:  29548800.0  dt:  8640\n",
      "n= 3450 Time:  29808000.0  dt:  8640\n",
      "n= 3480 Time:  30067200.0  dt:  8640\n",
      "n= 3510 Time:  30326400.0  dt:  8640\n",
      "n= 3540 Time:  30585600.0  dt:  8640\n",
      "n= 3570 Time:  30844800.0  dt:  8640\n",
      "n= 3600 Time:  31104000.0  dt:  8640\n",
      "n= 3630 Time:  31363200.0  dt:  8640\n",
      "Simulation is done!\n"
     ]
    }
   ],
   "source": [
    "simulation = NBodySimulator(particles=particles)\n",
    "simulation.setup(G=6.674e-11,rsoft=1e9,method='RK4', io_freq=30)\n",
    "simulation.evolve(dt=8640, tmax=365*86400)"
   ]
  },
  {
   "cell_type": "markdown",
   "metadata": {},
   "source": [
    "## Step 3. Visualization\n",
    "\n",
    "Check the code in `./nobdy/visualization.py`.\n",
    "Data loader is implmented in the function `load_files`."
   ]
  },
  {
   "cell_type": "code",
   "execution_count": 6,
   "metadata": {},
   "outputs": [
    {
     "name": "stdout",
     "output_type": "stream",
     "text": [
      "['data_nbody\\\\nbody_000000.dat', 'data_nbody\\\\nbody_000030.dat', 'data_nbody\\\\nbody_000060.dat', 'data_nbody\\\\nbody_000090.dat', 'data_nbody\\\\nbody_000120.dat', 'data_nbody\\\\nbody_000150.dat', 'data_nbody\\\\nbody_000180.dat', 'data_nbody\\\\nbody_000200.dat', 'data_nbody\\\\nbody_000210.dat', 'data_nbody\\\\nbody_000240.dat', 'data_nbody\\\\nbody_000270.dat', 'data_nbody\\\\nbody_000300.dat', 'data_nbody\\\\nbody_000330.dat', 'data_nbody\\\\nbody_000360.dat', 'data_nbody\\\\nbody_000390.dat', 'data_nbody\\\\nbody_000400.dat', 'data_nbody\\\\nbody_000420.dat', 'data_nbody\\\\nbody_000450.dat', 'data_nbody\\\\nbody_000480.dat', 'data_nbody\\\\nbody_000510.dat', 'data_nbody\\\\nbody_000540.dat', 'data_nbody\\\\nbody_000570.dat', 'data_nbody\\\\nbody_000600.dat', 'data_nbody\\\\nbody_000630.dat', 'data_nbody\\\\nbody_000660.dat', 'data_nbody\\\\nbody_000690.dat', 'data_nbody\\\\nbody_000720.dat', 'data_nbody\\\\nbody_000750.dat', 'data_nbody\\\\nbody_000780.dat', 'data_nbody\\\\nbody_000800.dat', 'data_nbody\\\\nbody_000810.dat', 'data_nbody\\\\nbody_000840.dat', 'data_nbody\\\\nbody_000870.dat', 'data_nbody\\\\nbody_000900.dat', 'data_nbody\\\\nbody_000930.dat', 'data_nbody\\\\nbody_000960.dat', 'data_nbody\\\\nbody_000990.dat', 'data_nbody\\\\nbody_001000.dat', 'data_nbody\\\\nbody_001020.dat', 'data_nbody\\\\nbody_001050.dat', 'data_nbody\\\\nbody_001080.dat', 'data_nbody\\\\nbody_001110.dat', 'data_nbody\\\\nbody_001140.dat', 'data_nbody\\\\nbody_001170.dat', 'data_nbody\\\\nbody_001200.dat', 'data_nbody\\\\nbody_001230.dat', 'data_nbody\\\\nbody_001260.dat', 'data_nbody\\\\nbody_001290.dat', 'data_nbody\\\\nbody_001320.dat', 'data_nbody\\\\nbody_001350.dat', 'data_nbody\\\\nbody_001380.dat', 'data_nbody\\\\nbody_001410.dat', 'data_nbody\\\\nbody_001440.dat', 'data_nbody\\\\nbody_001470.dat', 'data_nbody\\\\nbody_001500.dat', 'data_nbody\\\\nbody_001530.dat', 'data_nbody\\\\nbody_001560.dat', 'data_nbody\\\\nbody_001590.dat', 'data_nbody\\\\nbody_001620.dat', 'data_nbody\\\\nbody_001650.dat', 'data_nbody\\\\nbody_001680.dat', 'data_nbody\\\\nbody_001710.dat', 'data_nbody\\\\nbody_001740.dat', 'data_nbody\\\\nbody_001770.dat', 'data_nbody\\\\nbody_001800.dat', 'data_nbody\\\\nbody_001830.dat', 'data_nbody\\\\nbody_001860.dat', 'data_nbody\\\\nbody_001890.dat', 'data_nbody\\\\nbody_001920.dat', 'data_nbody\\\\nbody_001950.dat', 'data_nbody\\\\nbody_001980.dat', 'data_nbody\\\\nbody_002010.dat', 'data_nbody\\\\nbody_002040.dat', 'data_nbody\\\\nbody_002070.dat', 'data_nbody\\\\nbody_002100.dat', 'data_nbody\\\\nbody_002130.dat', 'data_nbody\\\\nbody_002160.dat', 'data_nbody\\\\nbody_002190.dat', 'data_nbody\\\\nbody_002220.dat', 'data_nbody\\\\nbody_002250.dat', 'data_nbody\\\\nbody_002280.dat', 'data_nbody\\\\nbody_002310.dat', 'data_nbody\\\\nbody_002340.dat', 'data_nbody\\\\nbody_002370.dat', 'data_nbody\\\\nbody_002400.dat', 'data_nbody\\\\nbody_002430.dat', 'data_nbody\\\\nbody_002460.dat', 'data_nbody\\\\nbody_002490.dat', 'data_nbody\\\\nbody_002520.dat', 'data_nbody\\\\nbody_002550.dat', 'data_nbody\\\\nbody_002580.dat', 'data_nbody\\\\nbody_002610.dat', 'data_nbody\\\\nbody_002640.dat', 'data_nbody\\\\nbody_002670.dat', 'data_nbody\\\\nbody_002700.dat', 'data_nbody\\\\nbody_002730.dat', 'data_nbody\\\\nbody_002760.dat', 'data_nbody\\\\nbody_002790.dat', 'data_nbody\\\\nbody_002820.dat', 'data_nbody\\\\nbody_002850.dat', 'data_nbody\\\\nbody_002880.dat', 'data_nbody\\\\nbody_002910.dat', 'data_nbody\\\\nbody_002940.dat', 'data_nbody\\\\nbody_002970.dat', 'data_nbody\\\\nbody_003000.dat', 'data_nbody\\\\nbody_003030.dat', 'data_nbody\\\\nbody_003060.dat', 'data_nbody\\\\nbody_003090.dat', 'data_nbody\\\\nbody_003120.dat', 'data_nbody\\\\nbody_003150.dat', 'data_nbody\\\\nbody_003180.dat', 'data_nbody\\\\nbody_003210.dat', 'data_nbody\\\\nbody_003240.dat', 'data_nbody\\\\nbody_003270.dat', 'data_nbody\\\\nbody_003300.dat', 'data_nbody\\\\nbody_003330.dat', 'data_nbody\\\\nbody_003360.dat', 'data_nbody\\\\nbody_003390.dat', 'data_nbody\\\\nbody_003420.dat', 'data_nbody\\\\nbody_003450.dat', 'data_nbody\\\\nbody_003480.dat', 'data_nbody\\\\nbody_003510.dat', 'data_nbody\\\\nbody_003540.dat', 'data_nbody\\\\nbody_003570.dat', 'data_nbody\\\\nbody_003600.dat', 'data_nbody\\\\nbody_003630.dat']\n"
     ]
    }
   ],
   "source": [
    "fns = load_files('nbody')\n",
    "print(fns)"
   ]
  },
  {
   "cell_type": "markdown",
   "metadata": {},
   "source": [
    "Modify the matplotlib script "
   ]
  },
  {
   "cell_type": "code",
   "execution_count": 7,
   "metadata": {},
   "outputs": [
    {
     "ename": "ValueError",
     "evalue": "too many values to unpack (expected 11)",
     "output_type": "error",
     "traceback": [
      "\u001b[1;31m---------------------------------------------------------------------------\u001b[0m",
      "\u001b[1;31mValueError\u001b[0m                                Traceback (most recent call last)",
      "Cell \u001b[1;32mIn[7], line 2\u001b[0m\n\u001b[0;32m      1\u001b[0m au \u001b[38;5;241m=\u001b[39m \u001b[38;5;241m1.496e11\u001b[39m\n\u001b[1;32m----> 2\u001b[0m \u001b[43msave_movie\u001b[49m\u001b[43m(\u001b[49m\u001b[43mfns\u001b[49m\u001b[43m,\u001b[49m\u001b[43m \u001b[49m\u001b[43mlengthscale\u001b[49m\u001b[38;5;241;43m=\u001b[39;49m\u001b[38;5;241;43m2\u001b[39;49m\u001b[38;5;241;43m*\u001b[39;49m\u001b[43mau\u001b[49m\u001b[43m,\u001b[49m\u001b[43mfilename\u001b[49m\u001b[38;5;241;43m=\u001b[39;49m\u001b[38;5;124;43m'\u001b[39;49m\u001b[38;5;124;43mnbody_earth_sun.mp4\u001b[39;49m\u001b[38;5;124;43m'\u001b[39;49m\u001b[43m,\u001b[49m\u001b[43m \u001b[49m\u001b[43mfps\u001b[49m\u001b[38;5;241;43m=\u001b[39;49m\u001b[38;5;241;43m10\u001b[39;49m\u001b[43m)\u001b[49m\n",
      "File \u001b[1;32mc:\\Users\\david\\code\\computationalPhysics-112\\project2\\nbody\\visualization.py:48\u001b[0m, in \u001b[0;36msave_movie\u001b[1;34m(fns, lengthscale, filename, fps)\u001b[0m\n\u001b[0;32m     45\u001b[0m     \u001b[38;5;28;01mreturn\u001b[39;00m line,\n\u001b[0;32m     47\u001b[0m ani \u001b[38;5;241m=\u001b[39m animation\u001b[38;5;241m.\u001b[39mFuncAnimation(fig, update, frames\u001b[38;5;241m=\u001b[39m\u001b[38;5;28mlen\u001b[39m(fns), init_func\u001b[38;5;241m=\u001b[39minit, blit\u001b[38;5;241m=\u001b[39m\u001b[38;5;28;01mTrue\u001b[39;00m)\n\u001b[1;32m---> 48\u001b[0m \u001b[43mani\u001b[49m\u001b[38;5;241;43m.\u001b[39;49m\u001b[43msave\u001b[49m\u001b[43m(\u001b[49m\u001b[43mfilename\u001b[49m\u001b[43m,\u001b[49m\u001b[43m \u001b[49m\u001b[43mwriter\u001b[49m\u001b[38;5;241;43m=\u001b[39;49m\u001b[38;5;124;43m'\u001b[39;49m\u001b[38;5;124;43mffmpeg\u001b[39;49m\u001b[38;5;124;43m'\u001b[39;49m\u001b[43m,\u001b[49m\u001b[43m \u001b[49m\u001b[43mfps\u001b[49m\u001b[38;5;241;43m=\u001b[39;49m\u001b[43mfps\u001b[49m\u001b[43m)\u001b[49m\n\u001b[0;32m     49\u001b[0m \u001b[38;5;28;01mreturn\u001b[39;00m\n",
      "File \u001b[1;32mc:\\Users\\david\\anaconda3\\envs\\comphys\\Lib\\site-packages\\matplotlib\\animation.py:1105\u001b[0m, in \u001b[0;36mAnimation.save\u001b[1;34m(self, filename, writer, fps, dpi, codec, bitrate, extra_args, metadata, extra_anim, savefig_kwargs, progress_callback)\u001b[0m\n\u001b[0;32m   1102\u001b[0m \u001b[38;5;28;01mfor\u001b[39;00m data \u001b[38;5;129;01min\u001b[39;00m \u001b[38;5;28mzip\u001b[39m(\u001b[38;5;241m*\u001b[39m[a\u001b[38;5;241m.\u001b[39mnew_saved_frame_seq() \u001b[38;5;28;01mfor\u001b[39;00m a \u001b[38;5;129;01min\u001b[39;00m all_anim]):\n\u001b[0;32m   1103\u001b[0m     \u001b[38;5;28;01mfor\u001b[39;00m anim, d \u001b[38;5;129;01min\u001b[39;00m \u001b[38;5;28mzip\u001b[39m(all_anim, data):\n\u001b[0;32m   1104\u001b[0m         \u001b[38;5;66;03m# TODO: See if turning off blit is really necessary\u001b[39;00m\n\u001b[1;32m-> 1105\u001b[0m         \u001b[43manim\u001b[49m\u001b[38;5;241;43m.\u001b[39;49m\u001b[43m_draw_next_frame\u001b[49m\u001b[43m(\u001b[49m\u001b[43md\u001b[49m\u001b[43m,\u001b[49m\u001b[43m \u001b[49m\u001b[43mblit\u001b[49m\u001b[38;5;241;43m=\u001b[39;49m\u001b[38;5;28;43;01mFalse\u001b[39;49;00m\u001b[43m)\u001b[49m\n\u001b[0;32m   1106\u001b[0m         \u001b[38;5;28;01mif\u001b[39;00m progress_callback \u001b[38;5;129;01mis\u001b[39;00m \u001b[38;5;129;01mnot\u001b[39;00m \u001b[38;5;28;01mNone\u001b[39;00m:\n\u001b[0;32m   1107\u001b[0m             progress_callback(frame_number, total_frames)\n",
      "File \u001b[1;32mc:\\Users\\david\\anaconda3\\envs\\comphys\\Lib\\site-packages\\matplotlib\\animation.py:1140\u001b[0m, in \u001b[0;36mAnimation._draw_next_frame\u001b[1;34m(self, framedata, blit)\u001b[0m\n\u001b[0;32m   1136\u001b[0m \u001b[38;5;28;01mdef\u001b[39;00m \u001b[38;5;21m_draw_next_frame\u001b[39m(\u001b[38;5;28mself\u001b[39m, framedata, blit):\n\u001b[0;32m   1137\u001b[0m     \u001b[38;5;66;03m# Breaks down the drawing of the next frame into steps of pre- and\u001b[39;00m\n\u001b[0;32m   1138\u001b[0m     \u001b[38;5;66;03m# post- draw, as well as the drawing of the frame itself.\u001b[39;00m\n\u001b[0;32m   1139\u001b[0m     \u001b[38;5;28mself\u001b[39m\u001b[38;5;241m.\u001b[39m_pre_draw(framedata, blit)\n\u001b[1;32m-> 1140\u001b[0m     \u001b[38;5;28;43mself\u001b[39;49m\u001b[38;5;241;43m.\u001b[39;49m\u001b[43m_draw_frame\u001b[49m\u001b[43m(\u001b[49m\u001b[43mframedata\u001b[49m\u001b[43m)\u001b[49m\n\u001b[0;32m   1141\u001b[0m     \u001b[38;5;28mself\u001b[39m\u001b[38;5;241m.\u001b[39m_post_draw(framedata, blit)\n",
      "File \u001b[1;32mc:\\Users\\david\\anaconda3\\envs\\comphys\\Lib\\site-packages\\matplotlib\\animation.py:1768\u001b[0m, in \u001b[0;36mFuncAnimation._draw_frame\u001b[1;34m(self, framedata)\u001b[0m\n\u001b[0;32m   1764\u001b[0m     \u001b[38;5;28mself\u001b[39m\u001b[38;5;241m.\u001b[39m_save_seq \u001b[38;5;241m=\u001b[39m \u001b[38;5;28mself\u001b[39m\u001b[38;5;241m.\u001b[39m_save_seq[\u001b[38;5;241m-\u001b[39m\u001b[38;5;28mself\u001b[39m\u001b[38;5;241m.\u001b[39m_save_count:]\n\u001b[0;32m   1766\u001b[0m \u001b[38;5;66;03m# Call the func with framedata and args. If blitting is desired,\u001b[39;00m\n\u001b[0;32m   1767\u001b[0m \u001b[38;5;66;03m# func needs to return a sequence of any artists that were modified.\u001b[39;00m\n\u001b[1;32m-> 1768\u001b[0m \u001b[38;5;28mself\u001b[39m\u001b[38;5;241m.\u001b[39m_drawn_artists \u001b[38;5;241m=\u001b[39m \u001b[38;5;28;43mself\u001b[39;49m\u001b[38;5;241;43m.\u001b[39;49m\u001b[43m_func\u001b[49m\u001b[43m(\u001b[49m\u001b[43mframedata\u001b[49m\u001b[43m,\u001b[49m\u001b[43m \u001b[49m\u001b[38;5;241;43m*\u001b[39;49m\u001b[38;5;28;43mself\u001b[39;49m\u001b[38;5;241;43m.\u001b[39;49m\u001b[43m_args\u001b[49m\u001b[43m)\u001b[49m\n\u001b[0;32m   1770\u001b[0m \u001b[38;5;28;01mif\u001b[39;00m \u001b[38;5;28mself\u001b[39m\u001b[38;5;241m.\u001b[39m_blit:\n\u001b[0;32m   1772\u001b[0m     err \u001b[38;5;241m=\u001b[39m \u001b[38;5;167;01mRuntimeError\u001b[39;00m(\u001b[38;5;124m'\u001b[39m\u001b[38;5;124mThe animation function must return a sequence \u001b[39m\u001b[38;5;124m'\u001b[39m\n\u001b[0;32m   1773\u001b[0m                        \u001b[38;5;124m'\u001b[39m\u001b[38;5;124mof Artist objects.\u001b[39m\u001b[38;5;124m'\u001b[39m)\n",
      "File \u001b[1;32mc:\\Users\\david\\code\\computationalPhysics-112\\project2\\nbody\\visualization.py:42\u001b[0m, in \u001b[0;36msave_movie.<locals>.update\u001b[1;34m(frame)\u001b[0m\n\u001b[0;32m     40\u001b[0m \u001b[38;5;28;01mdef\u001b[39;00m \u001b[38;5;21mupdate\u001b[39m(frame):\n\u001b[0;32m     41\u001b[0m     fn \u001b[38;5;241m=\u001b[39m fns[frame]\n\u001b[1;32m---> 42\u001b[0m     m,t,x,y,z,vx,vy,vz,ax,ay,az \u001b[38;5;241m=\u001b[39m np\u001b[38;5;241m.\u001b[39mloadtxt(fn)\n\u001b[0;32m     43\u001b[0m     line\u001b[38;5;241m.\u001b[39mset_data(x, y)\n\u001b[0;32m     44\u001b[0m     plt\u001b[38;5;241m.\u001b[39mtitle(\u001b[38;5;124m\"\u001b[39m\u001b[38;5;124mFrame =\u001b[39m\u001b[38;5;124m\"\u001b[39m\u001b[38;5;241m+\u001b[39m\u001b[38;5;28mstr\u001b[39m(frame),size\u001b[38;5;241m=\u001b[39m\u001b[38;5;241m18\u001b[39m)\n",
      "\u001b[1;31mValueError\u001b[0m: too many values to unpack (expected 11)"
     ]
    },
    {
     "data": {
      "image/png": "[encoded data removed]",
      "text/plain": [
       "<Figure size 720x720 with 1 Axes>"
      ]
     },
     "metadata": {},
     "output_type": "display_data"
    }
   ],
   "source": [
    "au = 1.496e11\n",
    "save_movie(fns, lengthscale=2*au,filename='nbody_earth_sun.mp4', fps=10)"
   ]
  },
  {
   "cell_type": "markdown",
   "metadata": {},
   "source": [
    "# Exercise 2: N-Body simulation\n",
    "\n",
    "Now, let's test our n-body solver with more particles. Copy the initial condition from the Exercise 2 in `project2_demo1.ipynb`."
   ]
  },
  {
   "cell_type": "code",
   "execution_count": null,
   "metadata": {},
   "outputs": [],
   "source": [
    "# TODO\n",
    "\n",
    "\n",
    "\n",
    "\n",
    "\n",
    "\n",
    "\n",
    "\n"
   ]
  },
  {
   "cell_type": "markdown",
   "metadata": {},
   "source": [
    "## Step 2. Simulation.\n",
    "\n",
    "Visualize the system but use dimensionless units. Set `G=1` and `rsoft=0.001`."
   ]
  },
  {
   "cell_type": "code",
   "execution_count": null,
   "metadata": {},
   "outputs": [],
   "source": [
    "simulation = NBodySimulator(particles=pts)\n",
    "simulation.setup(G=1,rsoft=0.001,method='RK4', io_freq=10, io_header='cluster')\n",
    "simulation.evolve(dt=0.01, tmax=1)"
   ]
  },
  {
   "cell_type": "markdown",
   "metadata": {},
   "source": [
    "It is VERY slow !!!!\n",
    "\n",
    "Beacuse the accerlation calculations requires order of NxN calculations!\n",
    "Could we improve it?\n",
    "\n",
    "First, we should avoid the two \"for\" loops in the calculation using python.\\\n",
    "Second, we have many cup cores in our machine. Could we parallelize it?"
   ]
  },
  {
   "cell_type": "markdown",
   "metadata": {},
   "source": [
    "# `numba`\n",
    "\n",
    "Step 1. Take out the function to calculate the accerlation from the class into a pure function that only counts math calculations (aka. a kernel).\n",
    "\n",
    "Step 2. Use the `numba`'s `@jit` micro. \n",
    "\n",
    "Results: In my experiments. I got roughly x140 speed up with the @jit(nopython=True). \n",
    "\n",
    "Step 3. Try using `@njit` and `prange` in numba."
   ]
  },
  {
   "cell_type": "markdown",
   "metadata": {},
   "source": [
    "## Performance\n",
    "\n",
    "### Strong Scaling Test\n",
    "\n",
    "**Strong scaling**: The number of processors is increased while the problem size remains constant.\\\n",
    "We could use `%timeit` to measure the performance. Let's run 1000 particles for 10 step."
   ]
  },
  {
   "cell_type": "code",
   "execution_count": null,
   "metadata": {},
   "outputs": [],
   "source": [
    "num_particles = 1000\n",
    "pts = Particles(N=num_particles)\n",
    "pts.masses = np.ones((num_particles, 1))* 10/num_particles\n",
    "pts.positions = np.random.randn(num_particles, 3)\n",
    "pts.velocities = np.random.randn(num_particles, 3)\n",
    "pts.accelerations = np.zeros((num_particles, 3))\n",
    "\n",
    "simulation = NBodySimulator(particles=pts)\n",
    "simulation.setup(G=1,rsoft=0.001,method='RK4', io_screen=False, io_freq=0, io_header='cluster')\n",
    "#simulation.evolve(dt=0.02, tmax=1)"
   ]
  },
  {
   "cell_type": "code",
   "execution_count": null,
   "metadata": {},
   "outputs": [],
   "source": [
    "%timeit simulation.evolve(dt=0.02, tmax=0.2)"
   ]
  },
  {
   "cell_type": "markdown",
   "metadata": {},
   "source": [
    "**Kuo-Chuan's measurements**\n",
    "\n",
    "CPU: 3 GHz 10-Core Intel Xeon W\n",
    "\n",
    "1000 particles. 10 steps.\n",
    "\n",
    "without `numba`: 5min 31s ± 2 s per loop (mean ± std. dev. of 7 runs, 1 loop each)\n",
    "with `numba`:\n",
    "* 1 core (`jit`): 17.7 s ± 328 ms per loop (mean ± std. dev. of 7 runs, 1 loop each)\n",
    "* 1 core (`njit`): 10.4 s ± 337 ms per loop (mean ± std. dev. of 7 runs, 1 loop each)\n",
    "* 2 cores: 7.61 s ± 52.8 ms per loop (mean ± std. dev. of 7 runs, 1 loop each)\n",
    "* 6 cores: 3.35 s ± 50.9 ms per loop (mean ± std. dev. of 7 runs, 1 loop each)\n",
    "* 10 cores: 2.12 s ± 16.2 ms per loop (mean ± std. dev. of 7 runs, 1 loop each)\n",
    "* 12 cores: 1.95 s ± 36.1 ms per loop (mean ± std. dev. of 7 runs, 1 loop each)\n",
    "* 16 cores: 1.64 s ± 46 ms per loop (mean ± std. dev. of 7 runs, 1 loop each)\n",
    "* 20 cores: 1.49 s ± 55.1 ms per loop (mean ± std. dev. of 7 runs, 1 loop each)"
   ]
  },
  {
   "cell_type": "code",
   "execution_count": null,
   "metadata": {},
   "outputs": [],
   "source": [
    "threads = [1,2,6,10,12,16,20]                     # Replace it to your measured values\n",
    "times = [10.4, 7.61, 3.35, 2.12, 1.95, 1.64,1.49] # Replace it to your measured values\n",
    "ideal = times[0]/np.array(threads)\n",
    "plt.loglog(threads, times)\n",
    "plt.loglog(threads, ideal, '--')\n",
    "plt.xlabel('Number of threads')\n",
    "plt.ylabel('Time for 10 iterations (s)')\n",
    "plt.legend(['Measured', 'Ideal'])\n",
    "plt.title('Strong scaling')\n",
    "plt.show()"
   ]
  },
  {
   "cell_type": "markdown",
   "metadata": {},
   "source": [
    "## Weak Scaling Test\n",
    "\n",
    "In N-body simulation, the problem size is proportional to $N^2$.\\\n",
    "**Weaking scaling** test measures the scaling with the same problem size per thread (core)."
   ]
  },
  {
   "cell_type": "code",
   "execution_count": null,
   "metadata": {},
   "outputs": [],
   "source": [
    "num_particles = int(225*np.sqrt(nthreads))\n",
    "print(\"N =\", num_particles, \", threads = \", nthreads)\n",
    "pts = Particles(N=num_particles)\n",
    "pts.masses = np.ones((num_particles, 1))* 10/num_particles\n",
    "pts.positions = np.random.randn(num_particles, 3)\n",
    "pts.velocities = np.random.randn(num_particles, 3)\n",
    "pts.accelerations = np.zeros((num_particles, 3))\n",
    "\n",
    "simulation = NBodySimulator(particles=pts)\n",
    "simulation.setup(G=1,rsoft=0.001,method='RK4', io_screen=False, io_freq=0, io_header='cluster')"
   ]
  },
  {
   "cell_type": "code",
   "execution_count": null,
   "metadata": {},
   "outputs": [],
   "source": [
    "%timeit simulation.evolve(dt=0.02, tmax=0.2)"
   ]
  },
  {
   "cell_type": "markdown",
   "metadata": {},
   "source": [
    "Kuo-Chuan's measurements\n",
    "\n",
    "* N = 225 threads =  1: 537 ms ± 13.9 ms per loop (mean ± std. dev. of 7 runs, 1 loop each)\n",
    "* N = 450 threads =  4: 981 ms ± 17.3 ms per loop (mean ± std. dev. of 7 runs, 1 loop each)\n",
    "* N = 636 threads =  8: 1.07 s ± 22.3 ms per loop (mean ± std. dev. of 7 runs, 1 loop each)\n",
    "* N = 779 threads =  12: 1.17 s ± 33.7 ms per loop (mean ± std. dev. of 7 runs, 1 loop each)\n",
    "* N = 900 threads =  16: 1.29 s ± 6.85 ms per loop (mean ± std. dev. of 7 runs, 1 loop each)\n",
    "* N = 1006 threads =  20: 1.51 s ± 35.3 ms per loop (mean ± std. dev. of 7 runs, 1 loop each)"
   ]
  },
  {
   "cell_type": "code",
   "execution_count": null,
   "metadata": {},
   "outputs": [],
   "source": [
    "threads = [1,4,8,12,16,20]                     # Replace it to your measured values\n",
    "times = [0.537, 0.981, 1.07, 1.17, 1.29, 1.51] # Replace it to your measured values\n",
    "ideal = 0.981 * np.ones(len(threads))\n",
    "plt.plot(threads, times)\n",
    "plt.plot(threads, ideal, '--')\n",
    "plt.xlabel('Number of threads')\n",
    "plt.ylabel('Time for 10 iterations (s)')\n",
    "plt.legend(['Measured', 'Ideal'])\n",
    "plt.title('Weak scaling')\n",
    "plt.show()"
   ]
  }
 ],
 "metadata": {
  "kernelspec": {
   "display_name": "comphys-112",
   "language": "python",
   "name": "python3"
  },
  "language_info": {
   "codemirror_mode": {
    "name": "ipython",
    "version": 3
   },
   "file_extension": ".py",
   "mimetype": "text/x-python",
   "name": "python",
   "nbconvert_exporter": "python",
   "pygments_lexer": "ipython3",
   "version": "3.11.7"
  }
 },
 "nbformat": 4,
 "nbformat_minor": 2
}
