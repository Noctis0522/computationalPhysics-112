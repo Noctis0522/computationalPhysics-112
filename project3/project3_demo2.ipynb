{
 "cells": [
  {
   "cell_type": "markdown",
   "metadata": {},
   "source": [
    "# Linear Systems\n",
    "\n",
    "In `project3_demo1.ipynb`, we have learned how to use `scipy.linalg.solve` to solve the linear equation $Ax=b$.\n",
    "\n",
    "In this notebook, we will learn how to solve linear systems step by step. We consider two special matrices first: lower triangular mastrix and upper triagnular matrix. \n",
    "\n",
    "References: \n",
    "* https://books.google.com.tw/books?id=f6Z8DwAAQBAJ&hl=zh-TW\n",
    "* https://docs.scipy.org/doc/scipy/reference/linalg.html\n",
    "\n"
   ]
  },
  {
   "cell_type": "code",
   "execution_count": null,
   "metadata": {},
   "outputs": [],
   "source": [
    "import numpy as np\n",
    "from scipy import linalg # just for checking"
   ]
  },
  {
   "cell_type": "markdown",
   "metadata": {},
   "source": [
    "## Lower Triagnular Matrix\n",
    "\n",
    "Implment the solver to solve the solution with a lower trianuglar matrix."
   ]
  },
  {
   "cell_type": "code",
   "execution_count": null,
   "metadata": {},
   "outputs": [],
   "source": [
    "def solveLowerTriangular(L,b):\n",
    "    \"\"\"\n",
    "    Solve a linear system with a lower triangular matrix L.\n",
    "\n",
    "    Arguments:\n",
    "    L -- a lower triangular matrix\n",
    "    b -- a vector\n",
    "\n",
    "    Returns:\n",
    "    x -- the solution to the linear system\n",
    "    \"\"\"\n",
    "    n  = len(b)\n",
    "    x  = np.zeros(n)\n",
    "    \n",
    "    # TODO: implement the algorithm\n",
    "\n",
    "    \n",
    "    return x"
   ]
  },
  {
   "cell_type": "markdown",
   "metadata": {},
   "source": [
    "## Exercise 1: Lower Triangular Matrix\n",
    "\n",
    "Write a python progem to solve this lower triangular matrix. Do NOT use `scipy.linalg`. Your lower triangular matrix solver should be general for $N \\times N$ matrix.\n",
    "\n",
    "$$\n",
    "\\begin{bmatrix}\n",
    "-1 & 0 & 0 \\\\\n",
    "-6 & -4 & 0 \\\\\n",
    "1 & 2 & 2 \\\\\n",
    "\\end{bmatrix}\n",
    "\\cdot\n",
    "\\begin{bmatrix}\n",
    "x_{1} \\\\\n",
    "x_2 \\\\\n",
    "x_3 \\\\\n",
    "\\end{bmatrix}\n",
    "=\n",
    "\\begin{bmatrix}\n",
    "1 \\\\\n",
    "-6 \\\\\n",
    "3 \\\\\n",
    "\\end{bmatrix}\n",
    "$$"
   ]
  },
  {
   "cell_type": "code",
   "execution_count": null,
   "metadata": {},
   "outputs": [],
   "source": [
    "L = np.array([[-1,0,0],[-6,-4,0],[1,2,2]])\n",
    "b = np.array([1,-6,3])\n",
    "print(L,b)"
   ]
  },
  {
   "cell_type": "code",
   "execution_count": null,
   "metadata": {},
   "outputs": [],
   "source": [
    "x = solveLowerTriangular(L,b)\n",
    "print(x)"
   ]
  },
  {
   "cell_type": "markdown",
   "metadata": {},
   "source": [
    "Check if $$\\boldsymbol{L} \\cdot \\boldsymbol{x} = \\boldsymbol{b}$$"
   ]
  },
  {
   "cell_type": "code",
   "execution_count": null,
   "metadata": {},
   "outputs": [],
   "source": [
    "# check L x = b\n",
    "print(np.dot(L,x))\n",
    "print(b)"
   ]
  },
  {
   "cell_type": "code",
   "execution_count": null,
   "metadata": {},
   "outputs": [],
   "source": [
    "# check L^-1 b = x\n",
    "print(linalg.inv(L).dot(b))\n",
    "print(x)"
   ]
  },
  {
   "cell_type": "code",
   "execution_count": null,
   "metadata": {},
   "outputs": [],
   "source": [
    "# compare with solution from scipy \n",
    "print(linalg.solve(L,b))"
   ]
  },
  {
   "cell_type": "markdown",
   "metadata": {},
   "source": [
    "## Upper Triagnular Matrix"
   ]
  },
  {
   "cell_type": "markdown",
   "metadata": {},
   "source": [
    "## Exercise: Solving upper trianular matrix\n",
    "\n",
    "Write a python progem to solve the upper triangular matrix. Do NOT use `scipy.linalg`. Your upper triangular matrix solver should be general for $N \\times N$ matrix.\n",
    "\n",
    "$$\n",
    "\\begin{bmatrix}\n",
    "1 & 2 & 2 \\\\\n",
    "0 & -4 & -6 \\\\\n",
    "0 & 0 & -1 \\\\\n",
    "\\end{bmatrix}\n",
    "\\cdot\n",
    "\\begin{bmatrix}\n",
    "x_{1} \\\\\n",
    "x_2 \\\\\n",
    "x_3 \\\\\n",
    "\\end{bmatrix}\n",
    "=\n",
    "\\begin{bmatrix}\n",
    "3 \\\\\n",
    "-6 \\\\\n",
    "1 \\\\\n",
    "\\end{bmatrix}\n",
    "$$"
   ]
  },
  {
   "cell_type": "code",
   "execution_count": null,
   "metadata": {},
   "outputs": [],
   "source": [
    "def solveUpperTriangular(U,b):\n",
    "    \"\"\"\n",
    "    Solve a linear system with an upper triangular matrix U.\n",
    "\n",
    "    Arguments:\n",
    "    U -- an upper triangular matrix\n",
    "    b -- a vector\n",
    "\n",
    "    Returns:\n",
    "    x -- the solution to the linear system\n",
    "\n",
    "    \"\"\"\n",
    "    n  = len(b)\n",
    "    x  = np.zeros(n)\n",
    "    \n",
    "    # TODO: implement the algorithm\n",
    "\n",
    "\n",
    "\n",
    "\n",
    "    \n",
    "    \n",
    "    return x"
   ]
  },
  {
   "cell_type": "code",
   "execution_count": null,
   "metadata": {},
   "outputs": [],
   "source": [
    "U = np.array([[1,2,2],[0,-4,-6],[0,0,-1]])\n",
    "b = np.array([3,-6,1])\n",
    "print(U,b)"
   ]
  },
  {
   "cell_type": "code",
   "execution_count": null,
   "metadata": {},
   "outputs": [],
   "source": [
    "x = solveUpperTriangular(U,b)\n",
    "print(x)"
   ]
  },
  {
   "cell_type": "code",
   "execution_count": null,
   "metadata": {},
   "outputs": [],
   "source": [
    "# check U x = b\n",
    "print(np.dot(U,x))\n",
    "print(b)"
   ]
  },
  {
   "cell_type": "code",
   "execution_count": null,
   "metadata": {},
   "outputs": [],
   "source": [
    "# check U^-1 b = x\n",
    "print(linalg.inv(U).dot(b))\n",
    "print(x)"
   ]
  },
  {
   "cell_type": "code",
   "execution_count": null,
   "metadata": {},
   "outputs": [],
   "source": [
    "# compare with solution from scipy\n",
    "print(linalg.solve(U,b))"
   ]
  }
 ],
 "metadata": {
  "kernelspec": {
   "display_name": "comphys-112",
   "language": "python",
   "name": "python3"
  },
  "language_info": {
   "codemirror_mode": {
    "name": "ipython",
    "version": 3
   },
   "file_extension": ".py",
   "mimetype": "text/x-python",
   "name": "python",
   "nbconvert_exporter": "python",
   "pygments_lexer": "ipython3",
   "version": "3.11.5"
  }
 },
 "nbformat": 4,
 "nbformat_minor": 2
}
