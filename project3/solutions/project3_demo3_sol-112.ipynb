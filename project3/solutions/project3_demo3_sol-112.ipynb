{
 "cells": [
  {
   "cell_type": "markdown",
   "metadata": {},
   "source": [
    "# Linear systems"
   ]
  },
  {
   "cell_type": "code",
   "execution_count": 1,
   "metadata": {},
   "outputs": [],
   "source": [
    "import numpy as np\n",
    "from mylinalg import solveLowerTriangular, solveUpperTriangular, lu, lu_solve"
   ]
  },
  {
   "cell_type": "markdown",
   "metadata": {},
   "source": [
    "# Exercise: LU decomposition\n",
    "\n",
    "Write a python program to solve it. \n",
    "Do not use any linear algebra packackes. \n",
    "Use your own linear algebra solvers in `mylinalg.py`.\n",
    "\n",
    "$$\n",
    "\\boldsymbol{Ax}=\n",
    "\\begin{bmatrix}\n",
    "2 & 4 & -2 \\\\\n",
    "4 & 9 & -3 \\\\\n",
    "-2 & -3 & 7 \\\\\n",
    "\\end{bmatrix}\n",
    "\\cdot\n",
    "\\begin{bmatrix}\n",
    "x_{1} \\\\\n",
    "x_2 \\\\\n",
    "x_3 \\\\\n",
    "\\end{bmatrix}\n",
    "=\n",
    "\\begin{bmatrix}\n",
    "2 \\\\\n",
    "8 \\\\\n",
    "10 \\\\\n",
    "\\end{bmatrix}\n",
    "= \\boldsymbol{b}\n",
    "$$"
   ]
  },
  {
   "cell_type": "code",
   "execution_count": 2,
   "metadata": {},
   "outputs": [],
   "source": [
    "A = [[2,4,-2],[4,9,-3],[-2,-3,7]]"
   ]
  },
  {
   "cell_type": "code",
   "execution_count": 3,
   "metadata": {},
   "outputs": [],
   "source": [
    "l, u = lu(A)"
   ]
  },
  {
   "cell_type": "code",
   "execution_count": 4,
   "metadata": {},
   "outputs": [
    {
     "name": "stdout",
     "output_type": "stream",
     "text": [
      "[[ 1.  0.  0.]\n",
      " [ 2.  1.  0.]\n",
      " [-1.  1.  1.]] [[ 2.  4. -2.]\n",
      " [ 0.  1.  1.]\n",
      " [ 0.  0.  4.]]\n"
     ]
    }
   ],
   "source": [
    "print(l,u)"
   ]
  },
  {
   "cell_type": "markdown",
   "metadata": {},
   "source": [
    "Check $LU = A$"
   ]
  },
  {
   "cell_type": "code",
   "execution_count": 5,
   "metadata": {},
   "outputs": [
    {
     "name": "stdout",
     "output_type": "stream",
     "text": [
      "[[ 2.  4. -2.]\n",
      " [ 4.  9. -3.]\n",
      " [-2. -3.  7.]]\n",
      "[[2, 4, -2], [4, 9, -3], [-2, -3, 7]]\n"
     ]
    }
   ],
   "source": [
    "print(np.dot(l,u))\n",
    "print(A)"
   ]
  },
  {
   "cell_type": "code",
   "execution_count": 6,
   "metadata": {},
   "outputs": [
    {
     "name": "stdout",
     "output_type": "stream",
     "text": [
      "[-1.  2.  2.]\n"
     ]
    }
   ],
   "source": [
    "b = np.array([2,8,10])\n",
    "x = lu_solve(A,b)\n",
    "print(x)"
   ]
  },
  {
   "cell_type": "markdown",
   "metadata": {},
   "source": [
    "compare your solution with scipy"
   ]
  },
  {
   "cell_type": "code",
   "execution_count": 7,
   "metadata": {},
   "outputs": [],
   "source": [
    "from scipy.linalg import lu as scipy_lu\n",
    "from scipy.linalg import lu_factor as scipy_lu_factor\n",
    "from scipy.linalg import lu_solve as scipy_lu_solve\n",
    "from scipy.linalg import solve as scipy_solve"
   ]
  },
  {
   "cell_type": "code",
   "execution_count": 9,
   "metadata": {},
   "outputs": [
    {
     "name": "stdout",
     "output_type": "stream",
     "text": [
      "[[ 2.  4. -2.]\n",
      " [ 4.  9. -3.]\n",
      " [-2. -3.  7.]]\n",
      "[[2, 4, -2], [4, 9, -3], [-2, -3, 7]]\n"
     ]
    }
   ],
   "source": [
    "P, L, U = scipy_lu(A)\n",
    "\n",
    "# A = PLU\n",
    "print(np.dot(P,np.dot(L,U)))\n",
    "print(A)"
   ]
  },
  {
   "cell_type": "code",
   "execution_count": 11,
   "metadata": {},
   "outputs": [
    {
     "name": "stdout",
     "output_type": "stream",
     "text": [
      "[-1.  2.  2.]\n"
     ]
    }
   ],
   "source": [
    "b = np.array([2,8,10])\n",
    "lu, piv = scipy_lu_factor(A)\n",
    "x = scipy_lu_solve((lu, piv), b)\n",
    "print(x)"
   ]
  },
  {
   "cell_type": "code",
   "execution_count": 12,
   "metadata": {},
   "outputs": [
    {
     "name": "stdout",
     "output_type": "stream",
     "text": [
      "[-1.  2.  2.]\n"
     ]
    }
   ],
   "source": [
    "x = scipy_solve(A,b)\n",
    "print(x)"
   ]
  },
  {
   "cell_type": "markdown",
   "metadata": {},
   "source": [
    "# Apply to the Laplace's equation"
   ]
  },
  {
   "cell_type": "markdown",
   "metadata": {},
   "source": [
    "Copy your previous codes in `project3_demo1.ipynb` but use your own linear algebra solver."
   ]
  },
  {
   "cell_type": "code",
   "execution_count": null,
   "metadata": {},
   "outputs": [],
   "source": [
    "import numpy as np\n",
    "from scipy.sparse import dia_array  # if dia_array is not able, use dia_matrix\n",
    "from scipy.sparse import dia_matrix\n",
    "from numba import jit, njit, prange\n",
    "import matplotlib.pyplot as plt"
   ]
  },
  {
   "cell_type": "code",
   "execution_count": null,
   "metadata": {},
   "outputs": [],
   "source": [
    "# Copy your function from the previous notebook here\n",
    "\n",
    "\n",
    "\n",
    "\n",
    "\n",
    "\n",
    "\n",
    "\n"
   ]
  },
  {
   "cell_type": "code",
   "execution_count": null,
   "metadata": {},
   "outputs": [],
   "source": [
    "def solve_laplace(N=16):\n",
    "    u = np.zeros((N,N)) # A place holder for the solution\n",
    "\n",
    "    # TODO Copy your solver here\n",
    "\n",
    "\n",
    "\n",
    "\n",
    "\n",
    "    return u"
   ]
  },
  {
   "cell_type": "code",
   "execution_count": null,
   "metadata": {},
   "outputs": [],
   "source": [
    "u = solve_laplace(N=16)"
   ]
  },
  {
   "cell_type": "code",
   "execution_count": null,
   "metadata": {},
   "outputs": [],
   "source": [
    "plt.imshow(u.T,origin=\"lower\")"
   ]
  },
  {
   "cell_type": "markdown",
   "metadata": {},
   "source": [
    "You could see that our solver is much slower than `scipy.linalg`. Could you speed it up?"
   ]
  }
 ],
 "metadata": {
  "kernelspec": {
   "display_name": "comphys-112",
   "language": "python",
   "name": "python3"
  },
  "language_info": {
   "codemirror_mode": {
    "name": "ipython",
    "version": 3
   },
   "file_extension": ".py",
   "mimetype": "text/x-python",
   "name": "python",
   "nbconvert_exporter": "python",
   "pygments_lexer": "ipython3",
   "version": "3.11.5"
  }
 },
 "nbformat": 4,
 "nbformat_minor": 2
}
