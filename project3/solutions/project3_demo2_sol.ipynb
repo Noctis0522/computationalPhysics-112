{
 "cells": [
  {
   "cell_type": "markdown",
   "metadata": {},
   "source": [
    "# Linear Systems (Triangular matrix)\n",
    "\n",
    "In `project3_demo1.ipynb`, we have learned how to use `scipy.linalg.solve` to solve the linear equation $Ax=b$.\n",
    "\n",
    "In this notebook, we will learn how to solve linear systems step by step. We consider two special matrices first: lower triangular mastrix and upper triagnular matrix. \n",
    "\n",
    "References: \n",
    "* https://books.google.com.tw/books?id=f6Z8DwAAQBAJ&hl=zh-TW\n",
    "* https://docs.scipy.org/doc/scipy/reference/linalg.html\n",
    "\n"
   ]
  },
  {
   "cell_type": "code",
   "execution_count": 10,
   "metadata": {},
   "outputs": [],
   "source": [
    "import numpy as np\n",
    "from scipy import linalg # just for checking"
   ]
  },
  {
   "cell_type": "markdown",
   "metadata": {},
   "source": [
    "## Lower Triagnular Matrix\n",
    "\n",
    "Implment the solver to solve the solution with a lower trianuglar matrix."
   ]
  },
  {
   "cell_type": "code",
   "execution_count": 11,
   "metadata": {},
   "outputs": [],
   "source": [
    "def solveLowerTriangular(L,b):\n",
    "    \"\"\"\n",
    "    Solve a linear system with a lower triangular matrix L.\n",
    "\n",
    "    Arguments:\n",
    "    L -- a lower triangular matrix\n",
    "    b -- a vector\n",
    "\n",
    "    Returns:\n",
    "    x -- the solution to the linear system\n",
    "    \"\"\"\n",
    "    n  = len(b)\n",
    "    x  = np.zeros(n)\n",
    "    bs = np.copy(b)\n",
    "\n",
    "    for j in range(n):\n",
    "        # check if L[i,i] is singular\n",
    "        if L[j,j] == 0:\n",
    "            raise ValueError(\"L[{},{}] is zero\".format(i,i))\n",
    "        x[j] = bs[j]/L[j,j]\n",
    "        \n",
    "        for i in range(j,n):\n",
    "            bs[i] -= L[i,j]*x[j]\n",
    "    \n",
    "    return x"
   ]
  },
  {
   "cell_type": "markdown",
   "metadata": {},
   "source": [
    "## Exercise 1: Lower Triangular Matrix\n",
    "\n",
    "Write a python progem to solve this lower triangular matrix. Do NOT use `scipy.linalg`. Your lower triangular matrix solver should be general for $N \\times N$ matrix.\n",
    "\n",
    "$$\n",
    "\\begin{bmatrix}\n",
    "-1 & 0 & 0 \\\\\n",
    "-6 & -4 & 0 \\\\\n",
    "1 & 2 & 2 \\\\\n",
    "\\end{bmatrix}\n",
    "\\cdot\n",
    "\\begin{bmatrix}\n",
    "x_{1} \\\\\n",
    "x_2 \\\\\n",
    "x_3 \\\\\n",
    "\\end{bmatrix}\n",
    "=\n",
    "\\begin{bmatrix}\n",
    "1 \\\\\n",
    "-6 \\\\\n",
    "3 \\\\\n",
    "\\end{bmatrix}\n",
    "$$"
   ]
  },
  {
   "cell_type": "code",
   "execution_count": 12,
   "metadata": {},
   "outputs": [
    {
     "name": "stdout",
     "output_type": "stream",
     "text": [
      "[[-1  0  0]\n",
      " [-6 -4  0]\n",
      " [ 1  2  2]] [ 1 -6  3]\n"
     ]
    }
   ],
   "source": [
    "L = np.array([[-1,0,0],[-6,-4,0],[1,2,2]])\n",
    "b = np.array([1,-6,3])\n",
    "print(L,b)"
   ]
  },
  {
   "cell_type": "code",
   "execution_count": 13,
   "metadata": {},
   "outputs": [
    {
     "name": "stdout",
     "output_type": "stream",
     "text": [
      "[-1.  3. -1.]\n"
     ]
    }
   ],
   "source": [
    "x = solveLowerTriangular(L,b)\n",
    "print(x)"
   ]
  },
  {
   "cell_type": "markdown",
   "metadata": {},
   "source": [
    "Check if $$\\boldsymbol{L} \\cdot \\boldsymbol{x} = \\boldsymbol{b}$$"
   ]
  },
  {
   "cell_type": "code",
   "execution_count": 14,
   "metadata": {},
   "outputs": [
    {
     "name": "stdout",
     "output_type": "stream",
     "text": [
      "[ 1. -6.  3.]\n",
      "[ 1 -6  3]\n"
     ]
    }
   ],
   "source": [
    "# check L x = b\n",
    "print(np.dot(L,x))\n",
    "print(b)"
   ]
  },
  {
   "cell_type": "code",
   "execution_count": 15,
   "metadata": {},
   "outputs": [
    {
     "name": "stdout",
     "output_type": "stream",
     "text": [
      "[-1.  3. -1.]\n",
      "[-1.  3. -1.]\n"
     ]
    }
   ],
   "source": [
    "# check L^-1 b = x\n",
    "print(linalg.inv(L).dot(b))\n",
    "print(x)"
   ]
  },
  {
   "cell_type": "code",
   "execution_count": 16,
   "metadata": {},
   "outputs": [
    {
     "name": "stdout",
     "output_type": "stream",
     "text": [
      "[-1.  3. -1.]\n"
     ]
    }
   ],
   "source": [
    "# compare with solution from scipy \n",
    "print(linalg.solve(L,b))"
   ]
  },
  {
   "cell_type": "markdown",
   "metadata": {},
   "source": [
    "## Upper Triagnular Matrix"
   ]
  },
  {
   "cell_type": "markdown",
   "metadata": {},
   "source": [
    "## Exercise: Solving upper trianular matrix\n",
    "\n",
    "Write a python progem to solve the upper triangular matrix. Do NOT use `scipy.linalg`. Your upper triangular matrix solver should be general for $N \\times N$ matrix.\n",
    "\n",
    "$$\n",
    "\\begin{bmatrix}\n",
    "1 & 2 & 2 \\\\\n",
    "0 & -4 & -6 \\\\\n",
    "0 & 0 & -1 \\\\\n",
    "\\end{bmatrix}\n",
    "\\cdot\n",
    "\\begin{bmatrix}\n",
    "x_{1} \\\\\n",
    "x_2 \\\\\n",
    "x_3 \\\\\n",
    "\\end{bmatrix}\n",
    "=\n",
    "\\begin{bmatrix}\n",
    "3 \\\\\n",
    "-6 \\\\\n",
    "1 \\\\\n",
    "\\end{bmatrix}\n",
    "$$"
   ]
  },
  {
   "cell_type": "code",
   "execution_count": 17,
   "metadata": {},
   "outputs": [],
   "source": [
    "def solveUpperTriangular(U,b):\n",
    "    \"\"\"\n",
    "    Solve a linear system with an upper triangular matrix U.\n",
    "\n",
    "    Arguments:\n",
    "    U -- an upper triangular matrix\n",
    "    b -- a vector\n",
    "\n",
    "    Returns:\n",
    "    x -- the solution to the linear system\n",
    "\n",
    "    \"\"\"\n",
    "    n  = len(b)\n",
    "    x  = np.zeros(n)\n",
    "    bs = np.copy(b)\n",
    "\n",
    "    for j in range(n-1,-1,-1):\n",
    "        # check if U[i,i] is singular\n",
    "        if U[j,j] == 0:\n",
    "            raise ValueError(\"U[{},{}] is zero\".format(i,i))\n",
    "        x[j] = bs[j]/U[j,j]\n",
    "        \n",
    "        for i in range(j):\n",
    "            bs[i] -= U[i,j]*x[j]\n",
    "    \n",
    "    return x"
   ]
  },
  {
   "cell_type": "code",
   "execution_count": 18,
   "metadata": {},
   "outputs": [
    {
     "name": "stdout",
     "output_type": "stream",
     "text": [
      "[[ 1  2  2]\n",
      " [ 0 -4 -6]\n",
      " [ 0  0 -1]] [ 3 -6  1]\n"
     ]
    }
   ],
   "source": [
    "U = np.array([[1,2,2],[0,-4,-6],[0,0,-1]])\n",
    "b = np.array([3,-6,1])\n",
    "print(U,b)"
   ]
  },
  {
   "cell_type": "code",
   "execution_count": 19,
   "metadata": {},
   "outputs": [
    {
     "name": "stdout",
     "output_type": "stream",
     "text": [
      "[-1.  3. -1.]\n"
     ]
    }
   ],
   "source": [
    "x = solveUpperTriangular(U,b)\n",
    "print(x)"
   ]
  },
  {
   "cell_type": "code",
   "execution_count": 20,
   "metadata": {},
   "outputs": [
    {
     "name": "stdout",
     "output_type": "stream",
     "text": [
      "[ 3. -6.  1.]\n",
      "[ 3 -6  1]\n"
     ]
    }
   ],
   "source": [
    "# check U x = b\n",
    "print(np.dot(U,x))\n",
    "print(b)"
   ]
  },
  {
   "cell_type": "code",
   "execution_count": 21,
   "metadata": {},
   "outputs": [
    {
     "name": "stdout",
     "output_type": "stream",
     "text": [
      "[-1.  3. -1.]\n",
      "[-1.  3. -1.]\n"
     ]
    }
   ],
   "source": [
    "# check U^-1 b = x\n",
    "print(linalg.inv(U).dot(b))\n",
    "print(x)"
   ]
  },
  {
   "cell_type": "code",
   "execution_count": 22,
   "metadata": {},
   "outputs": [
    {
     "name": "stdout",
     "output_type": "stream",
     "text": [
      "[-1.  3. -1.]\n"
     ]
    }
   ],
   "source": [
    "# compare with solution from scipy\n",
    "print(linalg.solve(U,b))"
   ]
  }
 ],
 "metadata": {
  "kernelspec": {
   "display_name": "comphys-112",
   "language": "python",
   "name": "python3"
  },
  "language_info": {
   "codemirror_mode": {
    "name": "ipython",
    "version": 3
   },
   "file_extension": ".py",
   "mimetype": "text/x-python",
   "name": "python",
   "nbconvert_exporter": "python",
   "pygments_lexer": "ipython3",
   "version": "3.11.5"
  }
 },
 "nbformat": 4,
 "nbformat_minor": 2
}
