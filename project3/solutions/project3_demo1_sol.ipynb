{
 "cells": [
  {
   "cell_type": "markdown",
   "metadata": {},
   "source": [
    "# Finite Difference method for solving discrete Laplace Equation\n",
    "\n",
    "### Exercise 1: solve the 4x4 linear equation A.x = b"
   ]
  },
  {
   "cell_type": "markdown",
   "metadata": {},
   "source": [
    "`4*u[i,j] - u[i-1,j] - u[i+1,j] - u[i,j-1] - u[i,j+1] = 0`\n",
    "\n",
    "Dervie and solve the linear system A.x =b"
   ]
  },
  {
   "cell_type": "markdown",
   "metadata": {},
   "source": [
    "REF: https://docs.scipy.org/doc/scipy/reference/generated/scipy.linalg.solve.html#scipy.linalg.solve"
   ]
  },
  {
   "cell_type": "code",
   "execution_count": 1,
   "metadata": {},
   "outputs": [],
   "source": [
    "import numpy as np\n",
    "from scipy import linalg"
   ]
  },
  {
   "cell_type": "code",
   "execution_count": 2,
   "metadata": {},
   "outputs": [
    {
     "name": "stdout",
     "output_type": "stream",
     "text": [
      "[[ 4 -1 -1  0]\n",
      " [-1  4  0 -1]\n",
      " [-1  0  4 -1]\n",
      " [ 0 -1 -1  4]]\n",
      "[0 0 1 1]\n",
      "[0.125 0.125 0.375 0.375]\n"
     ]
    }
   ],
   "source": [
    "A = np.array([[4,-1,-1,0],[-1,4,0,-1],[-1,0,4,-1],[0,-1,-1,4]])\n",
    "b = np.array([0,0,1,1])\n",
    "print(A)\n",
    "print(b)\n",
    "x = linalg.solve(A,b)\n",
    "print(x)\n",
    "\n",
    "\n",
    "\n",
    "\n",
    "\n",
    "\n",
    "\n"
   ]
  },
  {
   "cell_type": "markdown",
   "metadata": {},
   "source": [
    "### Exercise 2: arbitrary size of the matrix."
   ]
  },
  {
   "cell_type": "markdown",
   "metadata": {},
   "source": [
    "If we want our solve could sovle an arbitrary size of the system NxN in 2D.\\\n",
    "First, we need to generate the left-hand matrix. \\\n",
    "The left-hand matrix contains two components: One is an diagnoal matrix with only three banded values.\\\n",
    "The other component conatins negative identity matrice.\\\n",
    "\n",
    "we could use the `dia_matrix` in `scipy.sparse` and `np.identity()` for these components.\n",
    "\n",
    "REF: https://docs.scipy.org/doc/scipy/reference/sparse.html"
   ]
  },
  {
   "cell_type": "code",
   "execution_count": 3,
   "metadata": {},
   "outputs": [],
   "source": [
    "import numpy as np\n",
    "from scipy.sparse import dia_array  # if dia_array is not able, use dia_matrix\n",
    "from scipy.sparse import dia_matrix\n",
    "from numba import jit, njit, prange"
   ]
  },
  {
   "cell_type": "markdown",
   "metadata": {},
   "source": [
    "Part 1: \n",
    "\n",
    "Write a function to generate the matrxi A with arbitrary size N.\\\n",
    "The shpae of the matrix A is (N^2, N^2).\n",
    "\n",
    "Hints: depedning on your implmentation, you might want to use `numba` to speed it up."
   ]
  },
  {
   "cell_type": "markdown",
   "metadata": {},
   "source": [
    "We could decompose the matrix into several (N,N) submatrix and initialize the diagonal matrixs and the offset terms seperately."
   ]
  },
  {
   "cell_type": "code",
   "execution_count": 4,
   "metadata": {},
   "outputs": [],
   "source": [
    "def generate_1_4_1_dia(usize=4):\n",
    "    ex = np.ones(usize)\n",
    "    data = np.array([-ex, 4 * ex, -ex])\n",
    "    offsets = np.array([-1, 0, 1])\n",
    "    A = dia_array((data, offsets), shape=(usize, usize)).toarray()\n",
    "    return A"
   ]
  },
  {
   "cell_type": "code",
   "execution_count": 5,
   "metadata": {},
   "outputs": [],
   "source": [
    "def generate_the_laplace_matrix_with_size(N=4):\n",
    "    \"\"\"\n",
    "    assume sqrt(N) is an integer.\n",
    "\n",
    "    \"\"\"\n",
    "    nsq = N*N\n",
    "    A   = np.zeros((nsq,nsq))\n",
    "    u   = generate_1_4_1_dia(N)\n",
    "\n",
    "    d_matrix = generate_1_4_1_dia(N)\n",
    "    o_matrix = -np.identity(N)\n",
    "    z_matrix = np.zeros((N,N))\n",
    "\n",
    "    init_matrix_kernel(N,A,u,d_matrix,o_matrix,z_matrix)\n",
    "    return A"
   ]
  },
  {
   "cell_type": "code",
   "execution_count": 6,
   "metadata": {},
   "outputs": [],
   "source": [
    "@njit(parallel=True)\n",
    "def init_matrix_kernel(N,A,u,d_matrix,o_matrix, z_matrix):\n",
    "    for i in prange(N):\n",
    "        for j in prange(N):\n",
    "            if u[i,j] == 4:\n",
    "                # the elemen is another 1_4_1 matrix\n",
    "                suba = d_matrix\n",
    "            elif u[i,j] == -1:\n",
    "                suba = o_matrix\n",
    "            else:\n",
    "                suba = z_matrix\n",
    "            \n",
    "            for i2 in range(N):\n",
    "                for j2 in range(N):\n",
    "                    ii = i2 + i*N\n",
    "                    jj = j2 + j*N\n",
    "                    A[ii,jj] = suba[i2,j2]\n",
    "    return A"
   ]
  },
  {
   "cell_type": "code",
   "execution_count": 7,
   "metadata": {},
   "outputs": [
    {
     "name": "stdout",
     "output_type": "stream",
     "text": [
      "[[ 4. -1.  0.  0. -1. -0. -0. -0.  0.  0.  0.  0.  0.  0.  0.  0.]\n",
      " [-1.  4. -1.  0. -0. -1. -0. -0.  0.  0.  0.  0.  0.  0.  0.  0.]\n",
      " [ 0. -1.  4. -1. -0. -0. -1. -0.  0.  0.  0.  0.  0.  0.  0.  0.]\n",
      " [ 0.  0. -1.  4. -0. -0. -0. -1.  0.  0.  0.  0.  0.  0.  0.  0.]\n",
      " [-1. -0. -0. -0.  4. -1.  0.  0. -1. -0. -0. -0.  0.  0.  0.  0.]\n",
      " [-0. -1. -0. -0. -1.  4. -1.  0. -0. -1. -0. -0.  0.  0.  0.  0.]\n",
      " [-0. -0. -1. -0.  0. -1.  4. -1. -0. -0. -1. -0.  0.  0.  0.  0.]\n",
      " [-0. -0. -0. -1.  0.  0. -1.  4. -0. -0. -0. -1.  0.  0.  0.  0.]\n",
      " [ 0.  0.  0.  0. -1. -0. -0. -0.  4. -1.  0.  0. -1. -0. -0. -0.]\n",
      " [ 0.  0.  0.  0. -0. -1. -0. -0. -1.  4. -1.  0. -0. -1. -0. -0.]\n",
      " [ 0.  0.  0.  0. -0. -0. -1. -0.  0. -1.  4. -1. -0. -0. -1. -0.]\n",
      " [ 0.  0.  0.  0. -0. -0. -0. -1.  0.  0. -1.  4. -0. -0. -0. -1.]\n",
      " [ 0.  0.  0.  0.  0.  0.  0.  0. -1. -0. -0. -0.  4. -1.  0.  0.]\n",
      " [ 0.  0.  0.  0.  0.  0.  0.  0. -0. -1. -0. -0. -1.  4. -1.  0.]\n",
      " [ 0.  0.  0.  0.  0.  0.  0.  0. -0. -0. -1. -0.  0. -1.  4. -1.]\n",
      " [ 0.  0.  0.  0.  0.  0.  0.  0. -0. -0. -0. -1.  0.  0. -1.  4.]]\n"
     ]
    }
   ],
   "source": [
    "N = 4\n",
    "A = generate_the_laplace_matrix_with_size(N)\n",
    "print(A)"
   ]
  },
  {
   "cell_type": "markdown",
   "metadata": {},
   "source": [
    "Part2:\n",
    "\n",
    "The right hand side of the lienar equation is a vecotr.\\\n",
    "generate a vecotr is simple with `np.array()`"
   ]
  },
  {
   "cell_type": "code",
   "execution_count": 8,
   "metadata": {},
   "outputs": [],
   "source": [
    "def generate_the_rhs_vector_with_size(N=4):\n",
    "    b = np.zeros(N*N)\n",
    "    b[-N:] = 1\n",
    "    return b"
   ]
  },
  {
   "cell_type": "code",
   "execution_count": 9,
   "metadata": {},
   "outputs": [
    {
     "name": "stdout",
     "output_type": "stream",
     "text": [
      "[0. 0. 0. 0. 0. 0. 0. 0. 0. 0. 0. 0. 1. 1. 1. 1.]\n"
     ]
    }
   ],
   "source": [
    "b = generate_the_rhs_vector_with_size(N=N)\n",
    "print(b)"
   ]
  },
  {
   "cell_type": "markdown",
   "metadata": {},
   "source": [
    "Part 3:\n",
    "\n",
    "Once we have the linear problem `A x = b`, we could solve the system with `scipy.linalg.solve` \n",
    "\n",
    "REF: https://docs.scipy.org/doc/scipy/reference/generated/scipy.linalg.solve.html#scipy.linalg.solve"
   ]
  },
  {
   "cell_type": "code",
   "execution_count": 10,
   "metadata": {},
   "outputs": [],
   "source": [
    "from scipy import linalg"
   ]
  },
  {
   "cell_type": "code",
   "execution_count": 11,
   "metadata": {},
   "outputs": [],
   "source": [
    "x = linalg.solve(A, b)"
   ]
  },
  {
   "cell_type": "markdown",
   "metadata": {},
   "source": [
    "Part 4:\n",
    "\n",
    "Once we have the solution, we should convert the solution vector to the finite difference grids `u[i,j]`."
   ]
  },
  {
   "cell_type": "code",
   "execution_count": 12,
   "metadata": {},
   "outputs": [],
   "source": [
    "def convert_solution(x):\n",
    "    usize = np.sqrt(len(x))\n",
    "    u = x.reshape(int(usize),int(usize)).transpose()\n",
    "    return u"
   ]
  },
  {
   "cell_type": "markdown",
   "metadata": {},
   "source": [
    "Part 5:\n",
    "\n",
    "Now, let's visualize the solution with `matplotlib`"
   ]
  },
  {
   "cell_type": "code",
   "execution_count": 13,
   "metadata": {},
   "outputs": [],
   "source": [
    "import matplotlib.pyplot as plt"
   ]
  },
  {
   "cell_type": "code",
   "execution_count": 14,
   "metadata": {},
   "outputs": [
    {
     "data": {
      "text/plain": [
       "<matplotlib.image.AxesImage at 0x227e76d8310>"
      ]
     },
     "execution_count": 14,
     "metadata": {},
     "output_type": "execute_result"
    },
    {
     "data": {
      "image/png": "[encoded data removed]",
      "text/plain": [
       "<Figure size 640x480 with 1 Axes>"
      ]
     },
     "metadata": {},
     "output_type": "display_data"
    }
   ],
   "source": [
    "u = convert_solution(x)\n",
    "plt.imshow(u.T,origin=\"lower\")"
   ]
  },
  {
   "cell_type": "markdown",
   "metadata": {},
   "source": [
    "Part 6:\n",
    "\n",
    "Now we have tested our code, we could write a \"solver\" function to wrap all necessary codes.\\\n",
    "This solver function could be either in the notebook or in a seperate python file."
   ]
  },
  {
   "cell_type": "code",
   "execution_count": 15,
   "metadata": {},
   "outputs": [],
   "source": [
    "def solve_laplace(N=16):\n",
    "    A = generate_the_laplace_matrix_with_size(N=N)\n",
    "    b = generate_the_rhs_vector_with_size(N=N)\n",
    "    x = linalg.solve(A,b)\n",
    "    u = convert_solution(x)\n",
    "    return u"
   ]
  },
  {
   "cell_type": "code",
   "execution_count": 16,
   "metadata": {},
   "outputs": [],
   "source": [
    "u = solve_laplace(N=64)"
   ]
  },
  {
   "cell_type": "code",
   "execution_count": 17,
   "metadata": {},
   "outputs": [
    {
     "data": {
      "text/plain": [
       "<matplotlib.image.AxesImage at 0x227e6fba510>"
      ]
     },
     "execution_count": 17,
     "metadata": {},
     "output_type": "execute_result"
    },
    {
     "data": {
      "image/png": "[encoded data removed]",
      "text/plain": [
       "<Figure size 640x480 with 1 Axes>"
      ]
     },
     "metadata": {},
     "output_type": "display_data"
    }
   ],
   "source": [
    "plt.imshow(u.T,origin=\"lower\")"
   ]
  },
  {
   "cell_type": "code",
   "execution_count": 18,
   "metadata": {},
   "outputs": [],
   "source": [
    "field = np.gradient(u)"
   ]
  },
  {
   "cell_type": "code",
   "execution_count": 19,
   "metadata": {},
   "outputs": [
    {
     "data": {
      "text/plain": [
       "<matplotlib.image.AxesImage at 0x227e7b04a90>"
      ]
     },
     "execution_count": 19,
     "metadata": {},
     "output_type": "execute_result"
    },
    {
     "data": {
      "image/png": "[encoded data removed]",
      "text/plain": [
       "<Figure size 640x480 with 1 Axes>"
      ]
     },
     "metadata": {},
     "output_type": "display_data"
    }
   ],
   "source": [
    "plt.imshow(field[1].T,origin=\"lower\")"
   ]
  },
  {
   "cell_type": "markdown",
   "metadata": {},
   "source": [
    "Part 7:\n",
    "\n",
    "The buttole neck of this solver is in the `linalg.solve()`.\\\n",
    "Let's measure the performance of `linalg.solve()` with different resolutions."
   ]
  },
  {
   "cell_type": "code",
   "execution_count": 20,
   "metadata": {},
   "outputs": [],
   "source": [
    "import time"
   ]
  },
  {
   "cell_type": "code",
   "execution_count": 21,
   "metadata": {},
   "outputs": [
    {
     "name": "stdout",
     "output_type": "stream",
     "text": [
      "Measuring resolution N =  8\n",
      "Measuring resolution N =  16\n",
      "Measuring resolution N =  32\n",
      "Measuring resolution N =  64\n",
      "Measuring resolution N =  128\n"
     ]
    }
   ],
   "source": [
    "resolutions = np.array([8,16,32,64,128])\n",
    "times       = np.zeros(len(resolutions))\n",
    "\n",
    "for i, N in enumerate(resolutions):\n",
    "    print(\"Measuring resolution N = \", N)\n",
    "    A = generate_the_laplace_matrix_with_size(N)\n",
    "    b = generate_the_rhs_vector_with_size(N)\n",
    "    t1 = time.time()\n",
    "    x  = linalg.solve(A,b)\n",
    "    t2 = time.time()\n",
    "    times[i] = (t2-t1)"
   ]
  },
  {
   "cell_type": "markdown",
   "metadata": {},
   "source": [
    "Part 8:\n",
    "\n",
    "Plot Computing time vs N in log-log scale."
   ]
  },
  {
   "cell_type": "code",
   "execution_count": 22,
   "metadata": {},
   "outputs": [
    {
     "name": "stderr",
     "output_type": "stream",
     "text": [
      "C:\\Users\\david\\AppData\\Local\\Temp\\ipykernel_10512\\3532761207.py:3: RuntimeWarning: divide by zero encountered in divide\n",
      "  plt.plot(resolutions,times[-1]*resolutions**5/resolutions[-1]**5)\n",
      "C:\\Users\\david\\AppData\\Local\\Temp\\ipykernel_10512\\3532761207.py:3: RuntimeWarning: invalid value encountered in divide\n",
      "  plt.plot(resolutions,times[-1]*resolutions**5/resolutions[-1]**5)\n"
     ]
    },
    {
     "data": {
      "text/plain": [
       "Text(0, 0.5, 'Times [sec]')"
      ]
     },
     "execution_count": 22,
     "metadata": {},
     "output_type": "execute_result"
    },
    {
     "data": {
      "image/png": "[encoded data removed]",
      "text/plain": [
       "<Figure size 640x480 with 1 Axes>"
      ]
     },
     "metadata": {},
     "output_type": "display_data"
    }
   ],
   "source": [
    "plt.figure(1)\n",
    "plt.plot(resolutions,times,'-o')\n",
    "plt.plot(resolutions,times[-1]*resolutions**5/resolutions[-1]**5)\n",
    "plt.xscale('log')\n",
    "plt.yscale('log')\n",
    "plt.xlabel(\"Resolution (N)\")\n",
    "plt.ylabel(\"Times [sec]\")"
   ]
  },
  {
   "cell_type": "markdown",
   "metadata": {},
   "source": [
    "You could see that the perofmance is propotional to `N^5`!\\\n",
    "This is becasue the size of the matrix A is proportional to `N^2` and\\\n",
    "the calculation time of `linalg.solve(M,b)` is proportial to the cubic of the size of M, N^3,\\\n",
    "giving `N^5` at the end."
   ]
  },
  {
   "cell_type": "markdown",
   "metadata": {},
   "source": [
    "The `scipy.linalg.solve` is robust, but since the matrix A is a sparse matrix, we could use special method to solve it.\n",
    "\n",
    "REF: https://docs.scipy.org/doc/scipy/reference/generated/scipy.sparse.linalg.spsolve.html"
   ]
  },
  {
   "cell_type": "code",
   "execution_count": 23,
   "metadata": {},
   "outputs": [],
   "source": [
    "from scipy.sparse import csc_matrix\n",
    "import scipy.sparse.linalg as splinalg"
   ]
  },
  {
   "cell_type": "code",
   "execution_count": 24,
   "metadata": {},
   "outputs": [],
   "source": [
    "N = 16\n",
    "A = generate_the_laplace_matrix_with_size(N)\n",
    "A = csc_matrix(A)\n",
    "b = generate_the_rhs_vector_with_size(N)\n",
    "x = splinalg.spsolve(A,b)"
   ]
  },
  {
   "cell_type": "markdown",
   "metadata": {},
   "source": [
    "Let's measure the performance again with `spsolve()`"
   ]
  },
  {
   "cell_type": "code",
   "execution_count": 27,
   "metadata": {},
   "outputs": [
    {
     "name": "stdout",
     "output_type": "stream",
     "text": [
      "Measuring resolution N =  8\n",
      "Measuring resolution N =  16\n",
      "Measuring resolution N =  32\n",
      "Measuring resolution N =  64\n",
      "Measuring resolution N =  128\n",
      "Measuring resolution N =  256\n"
     ]
    }
   ],
   "source": [
    "resolutions = np.array([8,16,32,64,128,256])\n",
    "times_sp    = np.zeros(len(resolutions))\n",
    "\n",
    "for i, N in enumerate(resolutions):\n",
    "    print(\"Measuring resolution N = \", N)\n",
    "    A = generate_the_laplace_matrix_with_size(N)\n",
    "    A = csc_matrix(A)\n",
    "    b = generate_the_rhs_vector_with_size(N)\n",
    "    t1 = time.time()\n",
    "    x  = splinalg.spsolve(A,b)\n",
    "    t2 = time.time()\n",
    "    times_sp[i] = (t2-t1)"
   ]
  },
  {
   "cell_type": "code",
   "execution_count": 26,
   "metadata": {},
   "outputs": [
    {
     "name": "stderr",
     "output_type": "stream",
     "text": [
      "C:\\Users\\david\\AppData\\Local\\Temp\\ipykernel_10512\\3581005561.py:5: RuntimeWarning: divide by zero encountered in divide\n",
      "  plt.plot(resolutions1,times[-1]*resolutions1**5/resolutions1[-1]**5,'b--')\n",
      "C:\\Users\\david\\AppData\\Local\\Temp\\ipykernel_10512\\3581005561.py:5: RuntimeWarning: invalid value encountered in divide\n",
      "  plt.plot(resolutions1,times[-1]*resolutions1**5/resolutions1[-1]**5,'b--')\n"
     ]
    },
    {
     "data": {
      "text/plain": [
       "Text(0, 0.5, 'Times [sec]')"
      ]
     },
     "execution_count": 26,
     "metadata": {},
     "output_type": "execute_result"
    },
    {
     "data": {
      "image/png": "[encoded data removed]",
      "text/plain": [
       "<Figure size 640x480 with 1 Axes>"
      ]
     },
     "metadata": {},
     "output_type": "display_data"
    }
   ],
   "source": [
    "resolutions1 = np.array([8,16,32,64,128])\n",
    "\n",
    "plt.figure(1)\n",
    "plt.plot(resolutions1[:-1],times[:-1],'b-o',label=\"Default solve()\")\n",
    "plt.plot(resolutions1,times[-1]*resolutions1**5/resolutions1[-1]**5,'b--')\n",
    "plt.plot(resolutions,times_sp,'r-o', label=\"spsolve()\")\n",
    "plt.plot(resolutions,times_sp[-1]*resolutions**2/resolutions[-1]**2,'r--')\n",
    "plt.xscale('log')\n",
    "plt.yscale('log')\n",
    "plt.legend(loc='upper left')\n",
    "plt.xlabel(\"Resolution (N)\")\n",
    "plt.ylabel(\"Times [sec]\")"
   ]
  },
  {
   "cell_type": "code",
   "execution_count": 28,
   "metadata": {},
   "outputs": [
    {
     "data": {
      "text/plain": [
       "34359738368"
      ]
     },
     "execution_count": 28,
     "metadata": {},
     "output_type": "execute_result"
    }
   ],
   "source": [
    "128**5"
   ]
  },
  {
   "cell_type": "markdown",
   "metadata": {},
   "source": [
    "You got several oreders of speedup if you know the matrix is a sparse matrix."
   ]
  }
 ],
 "metadata": {
  "kernelspec": {
   "display_name": "comphys-112",
   "language": "python",
   "name": "python3"
  },
  "language_info": {
   "codemirror_mode": {
    "name": "ipython",
    "version": 3
   },
   "file_extension": ".py",
   "mimetype": "text/x-python",
   "name": "python",
   "nbconvert_exporter": "python",
   "pygments_lexer": "ipython3",
   "version": "3.11.7"
  }
 },
 "nbformat": 4,
 "nbformat_minor": 2
}
